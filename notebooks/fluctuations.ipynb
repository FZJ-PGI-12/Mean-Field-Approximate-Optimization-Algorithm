{
 "cells": [
  {
   "cell_type": "markdown",
   "id": "5e61c835",
   "metadata": {},
   "source": [
    "# Mean-Field AOA - Quadratic Fluctuations"
   ]
  },
  {
   "cell_type": "code",
   "execution_count": null,
   "id": "0527583b",
   "metadata": {},
   "outputs": [],
   "source": [
    "import numpy as np\n",
    "import h5py\n",
    "import matplotlib.pyplot as plt\n",
    "plt.style.use(\"paper.mplstyle\")"
   ]
  },
  {
   "cell_type": "code",
   "execution_count": null,
   "id": "af405508",
   "metadata": {},
   "outputs": [],
   "source": [
    "import sys, copy\n",
    "sys.path.append('../src')\n",
    "from meanfieldaoa import *\n",
    "from fluctuations import *"
   ]
  },
  {
   "cell_type": "markdown",
   "id": "d4453066",
   "metadata": {},
   "source": [
    "## Testing"
   ]
  },
  {
   "cell_type": "code",
   "execution_count": null,
   "id": "55e5c8c6",
   "metadata": {},
   "outputs": [],
   "source": [
    "# PATH = \"../data/SK_model/Easy_Instance_N11/\"\n",
    "# FILE = \"Easy_instance_SK_model_seed_61_N_11_tau_05_p_1000.h5\"\n",
    "# p = 2000"
   ]
  },
  {
   "cell_type": "code",
   "execution_count": null,
   "id": "cb80cd81",
   "metadata": {},
   "outputs": [],
   "source": [
    "PATH = \"../data/SK_model/Hard_Instance_N11/\"\n",
    "FILE = \"Hard_instance_SK_model_seed_2041_N_11_tau_05_p_5000.h5\"\n",
    "p = 5000"
   ]
  },
  {
   "cell_type": "code",
   "execution_count": null,
   "id": "3155864c",
   "metadata": {},
   "outputs": [],
   "source": [
    "filename = PATH + FILE\n",
    "data_file = h5py.File(PATH + FILE, \"r\")\n",
    "E_0 = data_file[\"E0\"][:]\n",
    "J = data_file[\"J_ij\"][:]\n",
    "exact_levels = data_file[\"Levels\"][:]\n",
    "mf_level = data_file[\"MF_Energy-E0\"][:]\n",
    "lyapunov = data_file[\"Lyapunov_Exp\"][:]"
   ]
  },
  {
   "cell_type": "code",
   "execution_count": null,
   "id": "35c2baf7",
   "metadata": {},
   "outputs": [],
   "source": [
    "# schedule\n",
    "τ = 0.5\n",
    "N = 11\n",
    "\n",
    "γ = τ * (np.arange(1, p + 1) - 1/2) / p\n",
    "β = τ * (1 - np.arange(1, p + 1) / p)\n",
    "β[p-1] = τ / (4 * p)"
   ]
  },
  {
   "cell_type": "code",
   "execution_count": null,
   "id": "2b733d21",
   "metadata": {},
   "outputs": [],
   "source": [
    "S = np.array([[1., 0., 0.] for _ in range(N - 1)]) # fix final spin (i.e. leave it out)\n",
    "data = np.array([S for _ in range(p+1)])\n",
    "for k in range(p):\n",
    "    S = evolve(S, J, np.array([β[k]]), np.array([γ[k]]))\n",
    "    data[k + 1] = S"
   ]
  },
  {
   "cell_type": "code",
   "execution_count": null,
   "id": "2e24f1d6",
   "metadata": {},
   "outputs": [],
   "source": [
    "omega, lyapunov_exponent_t = evolve_fluctuations(data, J, τ, β, γ)"
   ]
  },
  {
   "cell_type": "code",
   "execution_count": null,
   "id": "6ec8f6a1",
   "metadata": {},
   "outputs": [],
   "source": [
    "plt.figure(figsize=(4, 3))\n",
    "plt.subplot(111)\n",
    "for k in range(6):\n",
    "    plt.plot(lyapunov_exponent_t[k], \"--r\")\n",
    "    plt.plot(lyapunov[k], \"-k\", alpha=0.5)    \n",
    "plt.xlim(0, p)    \n",
    "plt.ylim(0, 1)    \n",
    "plt.tight_layout()"
   ]
  },
  {
   "cell_type": "code",
   "execution_count": null,
   "id": "3c05b52d",
   "metadata": {},
   "outputs": [],
   "source": []
  }
 ],
 "metadata": {
  "kernelspec": {
   "display_name": "Python 3",
   "language": "python",
   "name": "python3"
  },
  "language_info": {
   "codemirror_mode": {
    "name": "ipython",
    "version": 3
   },
   "file_extension": ".py",
   "mimetype": "text/x-python",
   "name": "python",
   "nbconvert_exporter": "python",
   "pygments_lexer": "ipython3",
   "version": "3.8.8"
  }
 },
 "nbformat": 4,
 "nbformat_minor": 5
}
