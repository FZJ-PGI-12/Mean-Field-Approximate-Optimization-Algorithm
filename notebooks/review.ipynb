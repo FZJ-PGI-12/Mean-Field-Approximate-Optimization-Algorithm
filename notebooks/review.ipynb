{
 "cells": [
  {
   "cell_type": "markdown",
   "id": "5e61c835",
   "metadata": {},
   "source": [
    "# Mean-Field AOA - Additional Material for the Review Process"
   ]
  },
  {
   "cell_type": "markdown",
   "id": "8c8c72a8",
   "metadata": {},
   "source": [
    "https://arxiv.org/abs/2303.00329"
   ]
  },
  {
   "cell_type": "code",
   "execution_count": 1,
   "id": "0527583b",
   "metadata": {},
   "outputs": [],
   "source": [
    "import numpy as np\n",
    "import matplotlib.pyplot as plt\n",
    "import networkx as nx"
   ]
  },
  {
   "cell_type": "code",
   "execution_count": 2,
   "id": "fd4e9f6a",
   "metadata": {},
   "outputs": [],
   "source": [
    "import sys\n",
    "sys.path.append('../src')\n",
    "from meanfieldaoa import *"
   ]
  },
  {
   "cell_type": "markdown",
   "id": "c158a5ef",
   "metadata": {},
   "source": [
    "## Convergence in $p$"
   ]
  },
  {
   "cell_type": "code",
   "execution_count": 3,
   "id": "ffb68c9f",
   "metadata": {},
   "outputs": [],
   "source": [
    "# number of spins\n",
    "N = 200"
   ]
  },
  {
   "cell_type": "code",
   "execution_count": 4,
   "id": "e6ad78e9",
   "metadata": {},
   "outputs": [],
   "source": [
    "# container to collect data at different p\n",
    "# do not reset unless intended\n",
    "data_dict = {}"
   ]
  },
  {
   "cell_type": "code",
   "execution_count": 5,
   "id": "07a008d6",
   "metadata": {},
   "outputs": [],
   "source": [
    "# create random SK instance\n",
    "np.random.seed(1)\n",
    "J = np.random.normal(0, 1, size=(N, N)) / np.sqrt(N)\n",
    "J = np.triu(J, k=1)\n",
    "J = J + J.transpose()"
   ]
  },
  {
   "cell_type": "code",
   "execution_count": 6,
   "id": "2fae9bc2",
   "metadata": {},
   "outputs": [],
   "source": [
    "τ = 0.5\n",
    "for p in [500, 1000, 2000, 5000]:\n",
    "\n",
    "    # for this schedule, see Appendix A of https://arxiv.org/pdf/1907.02359.pdf\n",
    "    γ = τ * (np.arange(1, p + 1) - 1/2) / p\n",
    "    β = τ * (1 - np.arange(1, p + 1) / p)\n",
    "    β[p-1] = τ / (4 * p)\n",
    "\n",
    "    # fix final spin (i.e. leave it out)\n",
    "    S = np.array([[1., 0., 0.] for _ in range(N - 1)])\n",
    "    data = np.array([S for _ in range(p+1)])\n",
    "\n",
    "    # run one step at a time\n",
    "    for k in range(p):\n",
    "        S = evolve(S, J, np.array([β[k]]), np.array([γ[k]]))\n",
    "        data[k + 1] = S\n",
    "\n",
    "    data_dict[p] = data"
   ]
  },
  {
   "cell_type": "code",
   "execution_count": 7,
   "id": "0d077e79",
   "metadata": {
    "scrolled": true
   },
   "outputs": [
    {
     "data": {
      "image/png": "[encoded data removed]",
      "text/plain": [
       "<Figure size 660x200 with 3 Axes>"
      ]
     },
     "metadata": {},
     "output_type": "display_data"
    }
   ],
   "source": [
    "# plot x, y, and z of a number of spins \n",
    "num_plts = 3\n",
    "plt.figure(figsize=(num_plts * 2.2, 2))\n",
    "\n",
    "for key, val in data_dict.items():\n",
    "    times = np.linspace(0, 1, key+1)\n",
    "    for n in range(num_plts):\n",
    "        plt.subplot(1, num_plts, n+1)\n",
    "        plt.plot(times, (val.T[2][n]), label=\"p = \" + str(key))\n",
    "        plt.xlim(0, 1)\n",
    "        plt.ylim(-1, 1)\n",
    "        plt.xlabel(\"t/T\")\n",
    "        plt.ylabel(\"n^z_\" + str(n+1))\n",
    "        plt.yticks([-1, 0., 1])\n",
    "\n",
    "plt.legend(frameon=False)\n",
    "plt.tight_layout()"
   ]
  },
  {
   "cell_type": "code",
   "execution_count": null,
   "id": "763d86d8",
   "metadata": {},
   "outputs": [],
   "source": []
  }
 ],
 "metadata": {
  "kernelspec": {
   "display_name": "Python 3 (ipykernel)",
   "language": "python",
   "name": "python3"
  },
  "language_info": {
   "codemirror_mode": {
    "name": "ipython",
    "version": 3
   },
   "file_extension": ".py",
   "mimetype": "text/x-python",
   "name": "python",
   "nbconvert_exporter": "python",
   "pygments_lexer": "ipython3",
   "version": "3.10.6"
  }
 },
 "nbformat": 4,
 "nbformat_minor": 5
}
