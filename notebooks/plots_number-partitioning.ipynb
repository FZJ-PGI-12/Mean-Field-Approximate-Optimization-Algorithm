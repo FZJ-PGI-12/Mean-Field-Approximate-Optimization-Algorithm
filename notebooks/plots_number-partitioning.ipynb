{
 "cells": [
  {
   "cell_type": "markdown",
   "id": "c70ecb0b",
   "metadata": {},
   "source": [
    "# Publication Plots for the Partition Problem"
   ]
  },
  {
   "cell_type": "code",
   "execution_count": null,
   "id": "33fa2208",
   "metadata": {},
   "outputs": [],
   "source": [
    "using HDF5, Printf\n",
    "using LsqFit, Measurements\n",
    "using Statistics, Distributions\n",
    "\n",
    "using PyCall, PyPlot\n",
    "np = pyimport(\"numpy\")\n",
    "h5py = pyimport(\"h5py\")\n",
    "PyPlot.plt.style.use(\"paper.mplstyle\")"
   ]
  },
  {
   "cell_type": "code",
   "execution_count": null,
   "id": "2eb6f6c1",
   "metadata": {},
   "outputs": [],
   "source": [
    "# path to folder with the h5 files\n",
    "PATH = \"../data/number-partitioning/\""
   ]
  },
  {
   "cell_type": "markdown",
   "id": "63ce31e8",
   "metadata": {},
   "source": [
    "## Plots"
   ]
  },
  {
   "cell_type": "markdown",
   "id": "a012ba63",
   "metadata": {},
   "source": [
    "### Average Energy"
   ]
  },
  {
   "cell_type": "code",
   "execution_count": null,
   "id": "f689c8e3",
   "metadata": {},
   "outputs": [],
   "source": [
    "p = 10000\n",
    "num_instances = 10000\n",
    "seed = 137;"
   ]
  },
  {
   "cell_type": "code",
   "execution_count": null,
   "id": "10b4e4b4",
   "metadata": {},
   "outputs": [],
   "source": [
    "X = 10:2:20;\n",
    "X = vcat(X, [25 + 5k for k in 0:4], [50, 60, 70, 80, 90]);"
   ]
  },
  {
   "cell_type": "code",
   "execution_count": null,
   "id": "46dacb40",
   "metadata": {
    "scrolled": false
   },
   "outputs": [],
   "source": [
    "E_star_data = []\n",
    "for N in X\n",
    "    new_file = \"number-partitioning_\" * \"p_\" * string(p) * \"_N_\" * string(N) * \"_num_inst_\" * string(num_instances) * \"_seed_\" * string(seed) * \"_moments.h5\"\n",
    "    data_file = h5open(PATH * new_file, \"r\")\n",
    "    println(new_file)\n",
    "    E_star_sqrt = read(data_file, \"E_star_sqrt\")[1]\n",
    "    push!(E_star_data, E_star_sqrt)\n",
    "end"
   ]
  },
  {
   "cell_type": "code",
   "execution_count": null,
   "id": "cf2ba07c",
   "metadata": {},
   "outputs": [],
   "source": [
    "m(x, p) = p[1] .+ p[2] .* x\n",
    "p0 = [0., -0.5];"
   ]
  },
  {
   "cell_type": "code",
   "execution_count": null,
   "id": "ce1d39d3",
   "metadata": {},
   "outputs": [],
   "source": [
    "fit_E = curve_fit(m, log.(X), log.(E_star_data), p0)    \n",
    "println(fit_E.resid .|> abs |> sum)    \n",
    "println(fit_E.param)"
   ]
  },
  {
   "cell_type": "code",
   "execution_count": null,
   "id": "5beb661a",
   "metadata": {},
   "outputs": [],
   "source": [
    "exp(fit_E.param[1])"
   ]
  },
  {
   "cell_type": "code",
   "execution_count": null,
   "id": "b4047c19",
   "metadata": {
    "scrolled": false
   },
   "outputs": [],
   "source": [
    "fig = figure(figsize=(4.2, 2))\n",
    "ax = subplot(111)\n",
    "ax.plot(X, E_star_data, \"o\")\n",
    "ax.plot(X, map(x -> m(x, [fit_E.param[1], fit_E.param[2]]), log.(X)) .|> exp, \"-C0\", label=\"\\$AN^{-\\\\omega}\\$\")\n",
    "ax.plot([], [], lw=0, label=@sprintf(\"\\$A=%.1f,\\\\, \\\\omega=%.1f \\$\", fit_E.param[1] |> exp, fit_E.param[2] |> abs))\n",
    "ax.set_xlabel(\"\\$N\\$\")\n",
    "ax.set_ylabel(\"\\$\\\\langle\\\\sqrt{E}\\\\rangle\\$\")\n",
    "ax.set_xscale(\"log\")\n",
    "ax.set_yscale(\"log\")\n",
    "ax.set_xlim(nothing, 1e2)\n",
    "ax.set_ylim(1e-4, 1e-1)\n",
    "ax.legend(loc=\"lower left\", ncol=2, columnspacing=-0.5, handlelength=1)\n",
    "\n",
    "tight_layout(pad=0.15, w_pad=0.0, h_pad=0.0)"
   ]
  },
  {
   "cell_type": "markdown",
   "id": "20e542f5",
   "metadata": {},
   "source": [
    "### Histograms"
   ]
  },
  {
   "cell_type": "code",
   "execution_count": null,
   "id": "f2765313",
   "metadata": {},
   "outputs": [],
   "source": [
    "@pyimport matplotlib.gridspec as gspec\n",
    "\n",
    "colors = [\"C0\", \"k\", \"C2\", \"C3\"];\n",
    "alphas = [0.5, 0.3]\n",
    "\n",
    "fig = plt.figure(figsize=(4.2, 5), constrained_layout=true)\n",
    "\n",
    "spec = gspec.GridSpec(figure=fig, ncols=1, nrows=2, wspace=0.0, hspace=0.0, height_ratios=[1, 2])\n",
    "\n",
    "ax1 = fig.add_subplot(spec[1])\n",
    "ax2 = fig.add_subplot(spec[0])\n",
    "\n",
    "ax1.plot(X, E_star_data, \"o\")\n",
    "ax1.plot(X, map(x -> m(x, [fit_E.param[1], fit_E.param[2]]), log.(X)) .|> exp, \"-C0\", label=\"\\$AN^{-\\\\omega}\\$\")\n",
    "ax1.plot([], [], lw=0, label=@sprintf(\"\\$A=%.1f,\\\\, \\\\omega=%.1f \\$\", fit_E.param[1] |> exp, fit_E.param[2] |> abs))\n",
    "ax1.set_xlabel(\"\\$N\\$\", labelpad=-4)\n",
    "ax1.set_ylabel(\"\\$\\\\langle\\\\sqrt{E_*}\\\\rangle\\$\")\n",
    "ax1.set_xscale(\"log\")\n",
    "ax1.set_yscale(\"log\")\n",
    "ax1.set_xlim(nothing, 1e2)\n",
    "ax1.set_ylim(1e-4, 1e-1)\n",
    "ax1.legend(loc=\"lower left\", ncol=2, columnspacing=-0.5, handlelength=1)\n",
    "\n",
    "for (k, N) in enumerate([20, 50])\n",
    "    new_file = \"number-partitioning_\" * \"p_\" * string(p) * \"_N_\" * string(N) * \"_num_inst_\" * string(num_instances) * \"_seed_\" * string(seed) * \"_hist_stats.h5\"\n",
    "    data_file = h5open(PATH * new_file, \"r\")\n",
    "    all_E_stars = read(data_file, \"all_E_stars\")\n",
    "    counts, bins = np.histogram(all_E_stars, bins=100)    \n",
    "    hist(N^1.9 .* bins[1:end-1], N^1.9 .* bins, weights=(counts), lw=1.5, label=@sprintf(\"\\$N=%2d\\$\", N), color=colors[k], alpha=alphas[k])#, histtype=\"step\")\n",
    "    if k == 1\n",
    "        plot(N^1.9 .* bins[1:end-1], map(x -> counts[1]*exp.(-x / 3.1), N^1.9 .* bins[1:end-1]), \"--k\")\n",
    "    end\n",
    "end\n",
    "plot([], [], \"--k\", label=\"\\$\\\\mathrm{e}^{- \\\\sqrt{E_*} N^{\\\\omega} / A}\\$\")\n",
    "legend(loc=\"upper right\", ncol=1)\n",
    "ax2.set_yscale(\"log\")\n",
    "ax2.set_xlim(0, 25)\n",
    "ax2.set_ylim(1e0, 1e4)\n",
    "ax2.set_xlabel(\"\\$N^{\\\\omega}\\\\sqrt{E_*}\\$\", labelpad=2)\n",
    "ax2.set_ylabel(\"\\$ P(\\\\sqrt{E_*})\\$\")\n",
    "# savefig(\"../plots/\" * \"Fig5.pdf\", dpi=300)"
   ]
  }
 ],
 "metadata": {
  "kernelspec": {
   "display_name": "Julia 1.7.2",
   "language": "julia",
   "name": "julia-1.7"
  },
  "language_info": {
   "file_extension": ".jl",
   "mimetype": "application/julia",
   "name": "julia",
   "version": "1.7.2"
  }
 },
 "nbformat": 4,
 "nbformat_minor": 5
}
