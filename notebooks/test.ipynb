{
 "cells": [
  {
   "cell_type": "markdown",
   "id": "5e61c835",
   "metadata": {},
   "source": [
    "# Mean-Field AOA"
   ]
  },
  {
   "cell_type": "code",
   "execution_count": null,
   "id": "0527583b",
   "metadata": {},
   "outputs": [],
   "source": [
    "import numpy as np\n",
    "import h5py"
   ]
  },
  {
   "cell_type": "code",
   "execution_count": null,
   "id": "af405508",
   "metadata": {},
   "outputs": [],
   "source": [
    "import sys\n",
    "sys.path.append('../src')\n",
    "from mf_AOA import *"
   ]
  },
  {
   "cell_type": "markdown",
   "id": "cb18a78c",
   "metadata": {},
   "source": [
    "## Sherrington-Kirkpatrick"
   ]
  },
  {
   "cell_type": "code",
   "execution_count": null,
   "id": "0da610a2",
   "metadata": {},
   "outputs": [],
   "source": [
    "# path to folder with the h5 files\n",
    "PATH_DB = \"/home/lappet/Dropbox/MidnightRambler/Mean_Field_AOA/Figures/Data/SK_model/Averaged_MF_energy/\"\n",
    "PATH = \"/home/lappet/Archives/projects/QuantumComputing/QAA_and_MFQAOA/data/mean-field-qaoa/results/sherrington-kirkpatrick/new/\""
   ]
  },
  {
   "cell_type": "code",
   "execution_count": null,
   "id": "948ea0e4",
   "metadata": {},
   "outputs": [],
   "source": [
    "seed = 137\n",
    "np.random.seed(seed)"
   ]
  },
  {
   "cell_type": "code",
   "execution_count": null,
   "id": "3230a6fa",
   "metadata": {},
   "outputs": [],
   "source": [
    "# schedule\n",
    "p = 1000\n",
    "τ = 0.5\n",
    "\n",
    "γ = τ * (np.arange(1, p + 1) - 1/2) / p\n",
    "β = τ * (1 - np.arange(1, p + 1) / p)\n",
    "β[p-1] = τ / (4 * p)"
   ]
  },
  {
   "cell_type": "code",
   "execution_count": null,
   "id": "6a47d252",
   "metadata": {
    "scrolled": true
   },
   "outputs": [],
   "source": [
    "for num in [10 + k * 5 for k in range(23)]:\n",
    "    N = num\n",
    "    num_instances = 10000\n",
    "\n",
    "    file = \"SK_model_\" + \"p_\" + str(p) + \"_N_\" + str(N) + \"_num_inst_\" + str(num_instances) + \"_seed_\" + str(seed) + \".h5\"\n",
    "    print(file)\n",
    "\n",
    "    h5_file = h5py.File(PATH + file, \"w\")\n",
    "\n",
    "    # Sherrington-Kirkpatrick model\n",
    "    from tqdm import tqdm\n",
    "    for i in tqdm(range(num_instances)):\n",
    "        J = np.random.normal(0, 1, size=(N, N)) / np.sqrt(N)\n",
    "        J = np.triu(J, k=1)\n",
    "        J = J + J.transpose()\n",
    "\n",
    "        S = np.array([[1., 0., 0.] for _ in range(N - 1)]) # fix final spin (i.e. leave it out)\n",
    "        S = evolve(S, J, β, γ)\n",
    "\n",
    "        h5_file.create_dataset(\"set_\" + str(i + 1) + \"/J\", data=J)\n",
    "        h5_file.create_dataset(\"set_\" + str(i + 1) + \"/S_z\", data=S[:, 2])\n",
    "\n",
    "    h5_file.close()"
   ]
  },
  {
   "cell_type": "code",
   "execution_count": null,
   "id": "e5b01e19",
   "metadata": {},
   "outputs": [],
   "source": [
    "E_0 = -0.763\n",
    "\n",
    "for num in [10 + k * 5 for k in range(23)]:\n",
    "    N = num\n",
    "    num_instances = 10000\n",
    "\n",
    "    file = \"SK_model_\" + \"p_\" + str(p) + \"_N_\" + str(N) + \"_num_inst_\" + str(num_instances) + \"_seed_\" + str(seed) + \".h5\"\n",
    "    print(file)    \n",
    "    data_file = h5py.File(PATH + file, \"r\")\n",
    "\n",
    "    E_star = 0\n",
    "    E_star_squared = 0\n",
    "    for i in range(num_instances):\n",
    "        J = data_file[\"set_\" + str(i + 1) + \"/J\"][:]\n",
    "        S_z = data_file[\"set_\" + str(i + 1) + \"/S_z\"][:]\n",
    "\n",
    "        E_star += expectation(solution(S_z), J)\n",
    "        E_star_squared += expectation(solution(S_z), J)**2\n",
    "        \n",
    "    out_file = h5py.File(PATH_DB + file, \"w\")\n",
    "    out_file.create_dataset(\"E_star\", data=[E_star / num_instances])\n",
    "    out_file.create_dataset(\"E_star_squared\", data=[E_star_squared / num_instances])\n",
    "    out_file.close()"
   ]
  },
  {
   "cell_type": "code",
   "execution_count": null,
   "id": "a3708c64",
   "metadata": {},
   "outputs": [],
   "source": [
    "N = 50\n",
    "num_instances = 10000\n",
    "\n",
    "file = \"SK_model_\" + \"p_\" + str(p) + \"_N_\" + str(N) + \"_num_inst_\" + str(num_instances) + \"_seed_\" + str(seed) + \".h5\"\n",
    "print(file)    \n",
    "data_file = h5py.File(PATH + file, \"r\")\n",
    "\n",
    "E_stars = []\n",
    "for i in range(num_instances):\n",
    "    J = data_file[\"set_\" + str(i + 1) + \"/J\"][:]\n",
    "    S_z = data_file[\"set_\" + str(i + 1) + \"/S_z\"][:]\n",
    "\n",
    "    E_star = expectation(solution(S_z), J)\n",
    "    E_stars.append(E_star)\n",
    "\n",
    "file = \"SK_model_\" + \"p_\" + str(p) + \"_N_\" + str(N) + \"_num_inst_\" + str(num_instances) + \"_seed_\" + str(seed) + \"_all_E_stars.h5\"    \n",
    "out_file = h5py.File(PATH_DB + file, \"w\")\n",
    "out_file.create_dataset(\"all_E_stars\", data=E_stars)\n",
    "out_file.close()"
   ]
  },
  {
   "cell_type": "code",
   "execution_count": null,
   "id": "544339f1",
   "metadata": {},
   "outputs": [],
   "source": []
  }
 ],
 "metadata": {
  "kernelspec": {
   "display_name": "Python [conda env:root] *",
   "language": "python",
   "name": "conda-root-py"
  },
  "language_info": {
   "codemirror_mode": {
    "name": "ipython",
    "version": 3
   },
   "file_extension": ".py",
   "mimetype": "text/x-python",
   "name": "python",
   "nbconvert_exporter": "python",
   "pygments_lexer": "ipython3",
   "version": "3.8.8"
  }
 },
 "nbformat": 4,
 "nbformat_minor": 5
}
