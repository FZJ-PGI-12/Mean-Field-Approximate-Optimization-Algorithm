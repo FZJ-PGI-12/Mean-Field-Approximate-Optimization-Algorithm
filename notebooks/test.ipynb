{
 "cells": [
  {
   "cell_type": "markdown",
   "id": "5e61c835",
   "metadata": {},
   "source": [
    "# Mean-Field AOA"
   ]
  },
  {
   "cell_type": "code",
   "execution_count": null,
   "id": "0527583b",
   "metadata": {},
   "outputs": [],
   "source": [
    "import numpy as np\n",
    "import h5py"
   ]
  },
  {
   "cell_type": "code",
   "execution_count": null,
   "id": "af405508",
   "metadata": {},
   "outputs": [],
   "source": [
    "import sys, copy\n",
    "sys.path.append('../src')\n",
    "from mf_AOA import *"
   ]
  },
  {
   "cell_type": "markdown",
   "id": "cb18a78c",
   "metadata": {
    "heading_collapsed": true
   },
   "source": [
    "## Sherrington-Kirkpatrick"
   ]
  },
  {
   "cell_type": "code",
   "execution_count": null,
   "id": "3230a6fa",
   "metadata": {
    "hidden": true
   },
   "outputs": [],
   "source": [
    "# schedule\n",
    "p = 1000\n",
    "τ = 0.5\n",
    "\n",
    "γ = τ * (np.arange(1, p + 1) - 1/2) / p\n",
    "β = τ * (1 - np.arange(1, p + 1) / p)\n",
    "β[p-1] = τ / (4 * p)"
   ]
  },
  {
   "cell_type": "code",
   "execution_count": null,
   "id": "0da610a2",
   "metadata": {
    "hidden": true
   },
   "outputs": [],
   "source": [
    "# path to folder with the h5 files\n",
    "PATH_DB = \"/home/lappet/Dropbox/MidnightRambler/Mean_Field_AOA/Figures/Data/SK_model/Averaged_MF_energy/\"\n",
    "PATH = \"/home/lappet/Archives/projects/QuantumComputing/QAA_and_MFQAOA/data/mean-field-qaoa/results/sherrington-kirkpatrick/new/\""
   ]
  },
  {
   "cell_type": "markdown",
   "id": "6be0baa8",
   "metadata": {
    "hidden": true
   },
   "source": [
    "### Raw data"
   ]
  },
  {
   "cell_type": "code",
   "execution_count": null,
   "id": "948ea0e4",
   "metadata": {
    "hidden": true
   },
   "outputs": [],
   "source": [
    "seed = 137\n",
    "np.random.seed(seed)"
   ]
  },
  {
   "cell_type": "code",
   "execution_count": null,
   "id": "6a47d252",
   "metadata": {
    "hidden": true,
    "scrolled": true
   },
   "outputs": [],
   "source": [
    "# for num in [10 + k * 5 for k in range(23)]:\n",
    "for num in [180]:\n",
    "    N = num\n",
    "    num_instances = 10000\n",
    "\n",
    "    file = \"SK_model_\" + \"p_\" + str(p) + \"_N_\" + str(N) + \"_num_inst_\" + str(num_instances) + \"_seed_\" + str(seed) + \".h5\"\n",
    "    print(file)\n",
    "\n",
    "    h5_file = h5py.File(PATH + file, \"w\")\n",
    "\n",
    "    # Sherrington-Kirkpatrick model\n",
    "    from tqdm import tqdm\n",
    "    for i in tqdm(range(num_instances)):\n",
    "        J = np.random.normal(0, 1, size=(N, N)) / np.sqrt(N)\n",
    "        J = np.triu(J, k=1)\n",
    "        J = J + J.transpose()\n",
    "\n",
    "        S = np.array([[1., 0., 0.] for _ in range(N - 1)]) # fix final spin (i.e. leave it out)\n",
    "        S = evolve(S, J, β, γ)\n",
    "\n",
    "        h5_file.create_dataset(\"set_\" + str(i + 1) + \"/J\", data=J)\n",
    "        h5_file.create_dataset(\"set_\" + str(i + 1) + \"/S_z\", data=S[:, 2])\n",
    "\n",
    "    h5_file.close()"
   ]
  },
  {
   "cell_type": "markdown",
   "id": "7572b0ab",
   "metadata": {
    "hidden": true
   },
   "source": [
    "### Histogram statistics"
   ]
  },
  {
   "cell_type": "code",
   "execution_count": null,
   "id": "a3708c64",
   "metadata": {
    "hidden": true
   },
   "outputs": [],
   "source": [
    "seed = 137\n",
    "np.random.seed(seed)\n",
    "\n",
    "N = 9\n",
    "num_instances = 10000\n",
    "\n",
    "file = \"SK_model_\" + \"p_\" + str(p) + \"_N_\" + str(N) + \"_num_inst_\" + str(num_instances) + \"_seed_\" + str(seed) + \".h5\"\n",
    "print(file)    \n",
    "data_file = h5py.File(PATH + file, \"r\")\n",
    "\n",
    "E_stars = []\n",
    "for i in range(num_instances):\n",
    "    J = data_file[\"set_\" + str(i + 1) + \"/J\"][:]\n",
    "    S_z = data_file[\"set_\" + str(i + 1) + \"/S_z\"][:]\n",
    "\n",
    "    E_star = expectation(solution(S_z), J)\n",
    "    E_stars.append(E_star)\n",
    "\n",
    "file = \"SK_model_\" + \"p_\" + str(p) + \"_N_\" + str(N) + \"_num_inst_\" + str(num_instances) + \"_seed_\" + str(seed) + \"_all_E_stars.h5\"    \n",
    "out_file = h5py.File(PATH_DB + file, \"w\")\n",
    "out_file.create_dataset(\"all_E_stars\", data=E_stars)\n",
    "out_file.close()"
   ]
  },
  {
   "cell_type": "markdown",
   "id": "b055439d",
   "metadata": {
    "hidden": true
   },
   "source": [
    "### Moments"
   ]
  },
  {
   "cell_type": "code",
   "execution_count": null,
   "id": "e5b01e19",
   "metadata": {
    "hidden": true
   },
   "outputs": [],
   "source": [
    "E_0 = -0.763\n",
    "\n",
    "# for num in [10 + k * 5 for k in range(23)]:\n",
    "for num in [150, 180]:\n",
    "    N = num\n",
    "    num_instances = 10000\n",
    "\n",
    "    file = \"SK_model_\" + \"p_\" + str(p) + \"_N_\" + str(N) + \"_num_inst_\" + str(num_instances) + \"_seed_\" + str(seed) + \".h5\"\n",
    "    print(file)    \n",
    "    data_file = h5py.File(PATH + file, \"r\")\n",
    "\n",
    "    E_star = 0\n",
    "    E_star_squared = 0\n",
    "    for i in range(num_instances):\n",
    "        J = data_file[\"set_\" + str(i + 1) + \"/J\"][:]\n",
    "        S_z = data_file[\"set_\" + str(i + 1) + \"/S_z\"][:]\n",
    "\n",
    "        E_star += expectation(solution(S_z), J)\n",
    "        E_star_squared += expectation(solution(S_z), J)**2\n",
    "        \n",
    "    out_file = h5py.File(PATH_DB + file, \"w\")\n",
    "    out_file.create_dataset(\"E_star\", data=[E_star / num_instances])\n",
    "    out_file.create_dataset(\"E_star_squared\", data=[E_star_squared / num_instances])\n",
    "    out_file.close()"
   ]
  },
  {
   "cell_type": "markdown",
   "id": "aace5767",
   "metadata": {
    "heading_collapsed": true
   },
   "source": [
    "## Number Partitioning"
   ]
  },
  {
   "cell_type": "code",
   "execution_count": null,
   "id": "1b7316fc",
   "metadata": {
    "hidden": true
   },
   "outputs": [],
   "source": [
    "# schedule\n",
    "p = 10000\n",
    "τ = 0.25\n",
    "\n",
    "γ = τ * (np.arange(1, p + 1) - 1/2) / p\n",
    "β = τ * (1 - np.arange(1, p + 1) / p)\n",
    "β[p-1] = τ / (4 * p)"
   ]
  },
  {
   "cell_type": "code",
   "execution_count": null,
   "id": "31ca4695",
   "metadata": {
    "hidden": true
   },
   "outputs": [],
   "source": [
    "PATH = \"../data/number-partitioning/\"\n",
    "PATH_DB = \"/home/lappet/Dropbox/MidnightRambler/Mean_Field_AOA/Figures/Data/NP_problem/new/\""
   ]
  },
  {
   "cell_type": "markdown",
   "id": "0375043a",
   "metadata": {
    "heading_collapsed": true,
    "hidden": true
   },
   "source": [
    "### Raw data"
   ]
  },
  {
   "cell_type": "code",
   "execution_count": null,
   "id": "c088b9d9",
   "metadata": {
    "hidden": true
   },
   "outputs": [],
   "source": [
    "# PATH = \"../data/number-partitioning/instances/batch_06/\"\n",
    "\n",
    "# X = np.linspace(4, 20, 9, dtype=int)\n",
    "# ENSEMBLE_SIZE = 100\n",
    "\n",
    "# for n in X:\n",
    "#     for i in range(ENSEMBLE_SIZE):\n",
    "        \n",
    "#         filename = \"number_partitioning_num_{0:02d}\".format(n) + \"_replica_{0:03d}\".format(i + 1)\n",
    "#         print(i, \", \", filename, \"\\n\")\n",
    "        \n",
    "#         a = np.load(PATH + filename + \".npy\")\n",
    "#         J = -2 * np.outer(a.T, a)\n",
    "#         np.fill_diagonal(J, 0.)    \n",
    "        \n",
    "#         # freeze final spin to +1\n",
    "#         h_z = J[-1, :-1]\n",
    "#         J = J[:-1, :-1]\n",
    "#         print(J, \"\\n\")"
   ]
  },
  {
   "cell_type": "code",
   "execution_count": null,
   "id": "2783a306",
   "metadata": {
    "hidden": true
   },
   "outputs": [],
   "source": [
    "X = np.linspace(4, 20, 9, dtype=int)\n",
    "X = np.concatenate((X, np.array([50, 60, 70, 80, 90, 100, 150, 200])))"
   ]
  },
  {
   "cell_type": "code",
   "execution_count": null,
   "id": "73e1c216",
   "metadata": {
    "hidden": true,
    "scrolled": true
   },
   "outputs": [],
   "source": [
    "for N in X:\n",
    "    seed = 137\n",
    "    np.random.seed(seed)\n",
    "    num_instances = 10000\n",
    "\n",
    "    file = \"number-partitioning_\" + \"p_\" + str(p) + \"_N_\" + str(N) + \"_num_inst_\" + str(num_instances) + \"_seed_\" + str(seed) + \".h5\"\n",
    "    print(file)\n",
    "\n",
    "    h5_file = h5py.File(PATH + file, \"w\")\n",
    "\n",
    "    # Number partitioning\n",
    "    from tqdm import tqdm\n",
    "    for i in tqdm(range(num_instances)):\n",
    "        a = np.random.uniform(0, 1, size=N) \n",
    "        a = np.sort(a)\n",
    "        J = -2 * np.outer(a.T, a)\n",
    "        np.fill_diagonal(J, 0.)    \n",
    "        \n",
    "        S = np.array([[1., 0., 0.] for _ in range(N - 1)]) # fix final spin (i.e. leave it out)\n",
    "        S = evolve(S, J, β, γ)\n",
    "\n",
    "        h5_file.create_dataset(\"set_\" + str(i + 1) + \"/a\", data=a)\n",
    "        h5_file.create_dataset(\"set_\" + str(i + 1) + \"/S_z\", data=S[:, 2])\n",
    "\n",
    "    h5_file.close()        "
   ]
  },
  {
   "cell_type": "markdown",
   "id": "70a03a91",
   "metadata": {
    "hidden": true
   },
   "source": [
    "### Histogram statistics"
   ]
  },
  {
   "cell_type": "code",
   "execution_count": null,
   "id": "362c657f",
   "metadata": {
    "hidden": true
   },
   "outputs": [],
   "source": [
    "seed = 137\n",
    "np.random.seed(seed)\n",
    "\n",
    "N = 50\n",
    "num_instances = 10000\n",
    "\n",
    "file = \"number-partitioning_\" + \"p_\" + str(p) + \"_N_\" + str(N) + \"_num_inst_\" + str(num_instances) + \"_seed_\" + str(seed) + \".h5\"\n",
    "print(file)    \n",
    "data_file = h5py.File(PATH + file, \"r\")\n",
    "\n",
    "E_stars = []\n",
    "for i in range(num_instances):\n",
    "    a = data_file[\"set_\" + str(i + 1) + \"/a\"][:]\n",
    "    S_z = data_file[\"set_\" + str(i + 1) + \"/S_z\"][:]\n",
    "    \n",
    "    J = -2 * np.outer(a.T, a)\n",
    "    np.fill_diagonal(J, 0.)   \n",
    "    \n",
    "    E_and_string = (np.sum(a**2) + expectation(solution(S_z), J), S_z)\n",
    "    \n",
    "#     # one spin flip\n",
    "#     for j in range(S_z.shape[0]):\n",
    "#         new_S_z = copy.deepcopy(S_z)\n",
    "#         new_S_z[j] *= -1\n",
    "#         if E_and_string[0] > np.sum(a**2) + expectation(solution(new_S_z), J):\n",
    "#             E_and_string = (np.sum(a**2) + expectation(solution(new_S_z), J), new_S_z)\n",
    "\n",
    "    # two spin flips\n",
    "    for j in range(S_z.shape[0]):\n",
    "        for k in range(j + 1, S_z.shape[0]):\n",
    "            new_S_z = copy.deepcopy(S_z)\n",
    "            new_S_z[j] *= -1\n",
    "            new_S_z[k] *= -1\n",
    "            if E_and_string[0] > np.sum(a**2) + expectation(solution(new_S_z), J):\n",
    "                E_and_string = (np.sum(a**2) + expectation(solution(new_S_z), J), new_S_z)\n",
    "    \n",
    "    E_stars.append(np.sqrt(E_and_string[0]))\n",
    "\n",
    "file = \"number-partitioning_\" + \"p_\" + str(p) + \"_N_\" + str(N) + \"_num_inst_\" + str(num_instances) + \"_seed_\" + str(seed) + \"_hist_stats.h5\"    \n",
    "out_file = h5py.File(PATH + file, \"w\")\n",
    "out_file.create_dataset(\"all_E_stars\", data=E_stars)\n",
    "out_file.close()"
   ]
  },
  {
   "cell_type": "markdown",
   "id": "52faf826",
   "metadata": {
    "hidden": true
   },
   "source": [
    "### Moments"
   ]
  },
  {
   "cell_type": "code",
   "execution_count": null,
   "id": "be6c728a",
   "metadata": {
    "hidden": true
   },
   "outputs": [],
   "source": [
    "X = np.arange(10, 22, 2);\n",
    "X = np.concatenate((X, [25 + 5*k for k in range(5)], [50, 60, 70, 80, 90]))\n",
    "X"
   ]
  },
  {
   "cell_type": "code",
   "execution_count": null,
   "id": "6f93f957",
   "metadata": {
    "hidden": true
   },
   "outputs": [],
   "source": [
    "for N in X:\n",
    "# for N in [25, 30, 35, 40, 45]:\n",
    "    seed = 137\n",
    "    num_instances = 10000\n",
    "\n",
    "    file = \"number-partitioning_\" + \"p_\" + str(p) + \"_N_\" + str(N) + \"_num_inst_\" + str(num_instances) + \"_seed_\" + str(seed) + \".h5\"\n",
    "    print(file)    \n",
    "    data_file = h5py.File(PATH + file, \"r\")\n",
    "\n",
    "    E_star_sqrt = 0\n",
    "    for i in range(num_instances):\n",
    "        a = data_file[\"set_\" + str(i + 1) + \"/a\"][:]\n",
    "        S_z = data_file[\"set_\" + str(i + 1) + \"/S_z\"][:]\n",
    "\n",
    "        J = -2 * np.outer(a.T, a)\n",
    "        np.fill_diagonal(J, 0.)\n",
    "\n",
    "        E_star = np.sum(a**2) + expectation(solution(S_z), J)\n",
    "\n",
    "        # two spin flips\n",
    "        for j in range(S_z.shape[0]):\n",
    "            for k in range(j + 1, S_z.shape[0]):\n",
    "                new_S_z = copy.deepcopy(S_z)\n",
    "                new_S_z[j] *= -1\n",
    "                new_S_z[k] *= -1\n",
    "                if E_star > np.sum(a**2) + expectation(solution(new_S_z), J):\n",
    "                    E_star = np.sum(a**2) + expectation(solution(new_S_z), J)\n",
    "\n",
    "        E_star_sqrt += np.sqrt(E_star)\n",
    "        \n",
    "    out_file = h5py.File(PATH + file[:-3] + \"_moments.h5\", \"w\")\n",
    "    out_file.create_dataset(\"E_star_sqrt\", data=[E_star_sqrt / num_instances])\n",
    "    out_file.close()"
   ]
  },
  {
   "cell_type": "code",
   "execution_count": null,
   "id": "90458b7b",
   "metadata": {
    "hidden": true
   },
   "outputs": [],
   "source": []
  }
 ],
 "metadata": {
  "kernelspec": {
   "display_name": "Python [conda env:root] *",
   "language": "python",
   "name": "conda-root-py"
  },
  "language_info": {
   "codemirror_mode": {
    "name": "ipython",
    "version": 3
   },
   "file_extension": ".py",
   "mimetype": "text/x-python",
   "name": "python",
   "nbconvert_exporter": "python",
   "pygments_lexer": "ipython3",
   "version": "3.8.8"
  }
 },
 "nbformat": 4,
 "nbformat_minor": 5
}
