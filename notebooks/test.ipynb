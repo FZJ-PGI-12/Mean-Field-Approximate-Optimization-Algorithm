{
 "cells": [
  {
   "cell_type": "markdown",
   "id": "5e61c835",
   "metadata": {},
   "source": [
    "# Mean-Field AOA"
   ]
  },
  {
   "cell_type": "code",
   "execution_count": null,
   "id": "0527583b",
   "metadata": {},
   "outputs": [],
   "source": [
    "import numpy as np\n",
    "import h5py"
   ]
  },
  {
   "cell_type": "code",
   "execution_count": null,
   "id": "5d68f820",
   "metadata": {},
   "outputs": [],
   "source": [
    "import sys\n",
    "sys.path.append('../src')\n",
    "from mf_AOA import *"
   ]
  },
  {
   "cell_type": "markdown",
   "id": "4fbc1d2c",
   "metadata": {},
   "source": [
    "## Sherrington-Kirkpatrick"
   ]
  },
  {
   "cell_type": "code",
   "execution_count": null,
   "id": "2e5ff857",
   "metadata": {},
   "outputs": [],
   "source": [
    "# path to folder with the h5 files\n",
    "PATH_DB = \"/home/lappet/Dropbox/MidnightRambler/Mean_Field_AOA/Figures/Data/SK_model/Averaged_MF_energy/\"\n",
    "PATH = \"/home/lappet/Archives/projects/QuantumComputing/QAA_and_MFQAOA/data/mean-field-qaoa/results/sherrington-kirkpatrick/new/\""
   ]
  },
  {
   "cell_type": "code",
   "execution_count": null,
   "id": "52d4f22d",
   "metadata": {},
   "outputs": [],
   "source": [
    "seed = 137\n",
    "np.random.seed(seed)"
   ]
  },
  {
   "cell_type": "code",
   "execution_count": null,
   "id": "3230a6fa",
   "metadata": {},
   "outputs": [],
   "source": [
    "# schedule\n",
    "p = 1000\n",
    "τ = 0.5\n",
    "\n",
    "γ = τ * (np.arange(1, p + 1) - 1/2) / p\n",
    "β = τ * (1 - np.arange(1, p + 1) / p)\n",
    "β[p-1] = τ / (4 * p)"
   ]
  },
  {
   "cell_type": "code",
   "execution_count": null,
   "id": "c5bd7572",
   "metadata": {
    "scrolled": true
   },
   "outputs": [],
   "source": [
    "for num in [10 + k * 5 for k in range(23)]:\n",
    "    N = num\n",
    "    num_instances = 10000\n",
    "\n",
    "    file = \"SK_model_\" + \"p_\" + str(p) + \"_N_\" + str(N) + \"_num_inst_\" + str(num_instances) + \"_seed_\" + str(seed) + \".h5\"\n",
    "    print(file)\n",
    "\n",
    "    h5_file = h5py.File(PATH + file, \"w\")\n",
    "\n",
    "    # Sherrington-Kirkpatrick model\n",
    "    from tqdm import tqdm\n",
    "    for i in tqdm(range(num_instances)):\n",
    "        J = np.random.normal(0, 1, size=(N, N)) / np.sqrt(N)\n",
    "        J = np.triu(J, k=1)\n",
    "        J = J + J.transpose()\n",
    "\n",
    "        S = np.array([[1., 0., 0.] for _ in range(N - 1)]) # fix final spin (i.e. leave it out)\n",
    "        S = evolve(S, J, β, γ)\n",
    "\n",
    "        h5_file.create_dataset(\"set_\" + str(i + 1) + \"/J\", data=J)\n",
    "        h5_file.create_dataset(\"set_\" + str(i + 1) + \"/S_z\", data=S[:, 2])\n",
    "\n",
    "    h5_file.close()"
   ]
  },
  {
   "cell_type": "code",
   "execution_count": null,
   "id": "814814e5",
   "metadata": {},
   "outputs": [],
   "source": [
    "E_0 = -0.763\n",
    "\n",
    "for num in [10 + k * 5 for k in range(23)]:\n",
    "    N = num\n",
    "    num_instances = 10000\n",
    "\n",
    "    file = \"SK_model_\" + \"p_\" + str(p) + \"_N_\" + str(N) + \"_num_inst_\" + str(num_instances) + \"_seed_\" + str(seed) + \".h5\"\n",
    "    print(file)    \n",
    "    data_file = h5py.File(PATH + file, \"r\")\n",
    "\n",
    "    E_star = 0\n",
    "    E_star_squared = 0\n",
    "    for i in range(num_instances):\n",
    "        J = data_file[\"set_\" + str(i + 1) + \"/J\"][:]\n",
    "        S_z = data_file[\"set_\" + str(i + 1) + \"/S_z\"][:]\n",
    "\n",
    "        E_star += expectation(solution(S_z), J)\n",
    "        E_star_squared += expectation(solution(S_z), J)**2\n",
    "        \n",
    "    out_file = h5py.File(PATH_DB + file, \"w\")\n",
    "    out_file.create_dataset(\"E_star\", data=[E_star / num_instances])\n",
    "    out_file.create_dataset(\"E_star_squared\", data=[E_star_squared / num_instances])\n",
    "    out_file.close()"
   ]
  },
  {
   "cell_type": "code",
   "execution_count": null,
   "id": "c61837e3",
   "metadata": {},
   "outputs": [],
   "source": [
    "N = 50\n",
    "num_instances = 10000\n",
    "\n",
    "file = \"SK_model_\" + \"p_\" + str(p) + \"_N_\" + str(N) + \"_num_inst_\" + str(num_instances) + \"_seed_\" + str(seed) + \".h5\"\n",
    "print(file)    \n",
    "data_file = h5py.File(PATH + file, \"r\")\n",
    "\n",
    "E_stars = []\n",
    "for i in range(num_instances):\n",
    "    J = data_file[\"set_\" + str(i + 1) + \"/J\"][:]\n",
    "    S_z = data_file[\"set_\" + str(i + 1) + \"/S_z\"][:]\n",
    "\n",
    "    E_star = expectation(solution(S_z), J)\n",
    "    E_stars.append(E_star)\n",
    "\n",
    "file = \"SK_model_\" + \"p_\" + str(p) + \"_N_\" + str(N) + \"_num_inst_\" + str(num_instances) + \"_seed_\" + str(seed) + \"_all_E_stars.h5\"    \n",
    "out_file = h5py.File(PATH_DB + file, \"w\")\n",
    "out_file.create_dataset(\"all_E_stars\", data=E_stars)\n",
    "out_file.close()"
   ]
  },
  {
   "cell_type": "markdown",
   "id": "e3602f8b",
   "metadata": {},
   "source": [
    "## Test"
   ]
  },
  {
   "cell_type": "code",
   "execution_count": null,
   "id": "28a1b51c",
   "metadata": {},
   "outputs": [],
   "source": [
    "# schedule\n",
    "p = 10\n",
    "τ = 0.5\n",
    "\n",
    "γ = τ * (np.arange(1, p + 1) - 1/2) / p\n",
    "β = τ * (1 - np.arange(1, p + 1) / p)\n",
    "β[p-1] = τ / (4 * p)"
   ]
  },
  {
   "cell_type": "code",
   "execution_count": null,
   "id": "576e5b78",
   "metadata": {},
   "outputs": [],
   "source": [
    "# initial spins\n",
    "N = 5\n",
    "S = np.array([[1., 0., 0.] for _ in range(N - 1)]) # fix final spin (i.e. leave it out)"
   ]
  },
  {
   "cell_type": "code",
   "execution_count": null,
   "id": "1c3534a9",
   "metadata": {},
   "outputs": [],
   "source": [
    "np.random.seed(11)\n",
    "J = np.random.normal(0, 1, size=(N, N)) / np.sqrt(N)\n",
    "J = np.triu(J, k=1)\n",
    "J = J + J.transpose()\n",
    "J"
   ]
  },
  {
   "cell_type": "code",
   "execution_count": null,
   "id": "204700ff",
   "metadata": {},
   "outputs": [],
   "source": [
    "import time"
   ]
  },
  {
   "cell_type": "code",
   "execution_count": null,
   "id": "0372153f",
   "metadata": {},
   "outputs": [],
   "source": [
    "# evolution\n",
    "t_0 = time.time()\n",
    "S = evolve(S, J, β, γ)\n",
    "    \n",
    "t_f = time.time()\n",
    "t_f - t_0"
   ]
  },
  {
   "cell_type": "code",
   "execution_count": null,
   "id": "d6ca479f",
   "metadata": {},
   "outputs": [],
   "source": [
    "S_test = np.array([[-0.4280189887648497, -0.4161436735954462, -0.3151885316091266, 0.06825210700086091], \n",
    "                   [0.57845514021309, 0.1965348184395327, -0.14809317283731896, -0.5908423629410464], \n",
    "                   [0.6943985858408479, -0.8878054449413042, -0.9374031159010826, -0.8038948638001017]])"
   ]
  },
  {
   "cell_type": "code",
   "execution_count": null,
   "id": "10ae12e8",
   "metadata": {},
   "outputs": [],
   "source": [
    "np.allclose(S, S_test.T)"
   ]
  },
  {
   "cell_type": "code",
   "execution_count": null,
   "id": "81ff7176",
   "metadata": {},
   "outputs": [],
   "source": [
    "np.allclose(expectation(S[:, 2], J), -2.5367551470078142)"
   ]
  },
  {
   "cell_type": "code",
   "execution_count": null,
   "id": "1d83a3d8",
   "metadata": {},
   "outputs": [],
   "source": [
    "np.allclose(solution(S[:, 2]), [ 1., -1., -1., -1.])"
   ]
  },
  {
   "cell_type": "code",
   "execution_count": null,
   "id": "7a541eee",
   "metadata": {},
   "outputs": [],
   "source": [
    "expectation(solution(S[:, 2]), J)"
   ]
  },
  {
   "cell_type": "code",
   "execution_count": null,
   "id": "17344961",
   "metadata": {},
   "outputs": [],
   "source": []
  }
 ],
 "metadata": {
  "kernelspec": {
   "display_name": "Python [conda env:root] *",
   "language": "python",
   "name": "conda-root-py"
  },
  "language_info": {
   "codemirror_mode": {
    "name": "ipython",
    "version": 3
   },
   "file_extension": ".py",
   "mimetype": "text/x-python",
   "name": "python",
   "nbconvert_exporter": "python",
   "pygments_lexer": "ipython3",
   "version": "3.8.8"
  }
 },
 "nbformat": 4,
 "nbformat_minor": 5
}
