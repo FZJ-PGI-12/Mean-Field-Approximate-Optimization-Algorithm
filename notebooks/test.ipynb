{
 "cells": [
  {
   "cell_type": "markdown",
   "id": "5e61c835",
   "metadata": {},
   "source": [
    "# Mean-Field AOA"
   ]
  },
  {
   "cell_type": "code",
   "execution_count": 1,
   "id": "0527583b",
   "metadata": {},
   "outputs": [],
   "source": [
    "import numpy as np\n",
    "import h5py"
   ]
  },
  {
   "cell_type": "code",
   "execution_count": 2,
   "id": "af405508",
   "metadata": {},
   "outputs": [],
   "source": [
    "import sys, copy\n",
    "sys.path.append('../src')\n",
    "from meanfieldaoa import *"
   ]
  },
  {
   "cell_type": "markdown",
   "id": "cb18a78c",
   "metadata": {
    "heading_collapsed": true
   },
   "source": [
    "## Sherrington-Kirkpatrick"
   ]
  },
  {
   "cell_type": "code",
   "execution_count": 3,
   "id": "3230a6fa",
   "metadata": {
    "hidden": true
   },
   "outputs": [],
   "source": [
    "# schedule\n",
    "p = 1000\n",
    "τ = 0.5\n",
    "\n",
    "γ = τ * (np.arange(1, p + 1) - 1/2) / p\n",
    "β = τ * (1 - np.arange(1, p + 1) / p)\n",
    "β[p-1] = τ / (4 * p)"
   ]
  },
  {
   "cell_type": "code",
   "execution_count": 4,
   "id": "0da610a2",
   "metadata": {
    "hidden": true
   },
   "outputs": [],
   "source": [
    "# path to folder with the h5 files\n",
    "PATH_DB = \"/home/lappet/Dropbox/MidnightRambler/Mean_Field_AOA/Figures/Data/SK_model/Averaged_MF_energy/\"\n",
    "# PATH = \"/home/lappet/Archives/projects/QuantumComputing/QAA_and_MFQAOA/data/mean-field-qaoa/results/sherrington-kirkpatrick/new/\"\n",
    "PATH = \"../data/SK_model/\""
   ]
  },
  {
   "cell_type": "markdown",
   "id": "6be0baa8",
   "metadata": {
    "hidden": true
   },
   "source": [
    "### Raw data"
   ]
  },
  {
   "cell_type": "code",
   "execution_count": null,
   "id": "948ea0e4",
   "metadata": {
    "hidden": true
   },
   "outputs": [],
   "source": [
    "seed = 137\n",
    "np.random.seed(seed)"
   ]
  },
  {
   "cell_type": "code",
   "execution_count": null,
   "id": "6a47d252",
   "metadata": {
    "hidden": true,
    "scrolled": true
   },
   "outputs": [],
   "source": [
    "# for num in [10 + k * 5 for k in range(23)]:\n",
    "for num in [180]:\n",
    "    N = num\n",
    "    num_instances = 10000\n",
    "\n",
    "    file = \"SK_model_\" + \"p_\" + str(p) + \"_N_\" + str(N) + \"_num_inst_\" + str(num_instances) + \"_seed_\" + str(seed) + \".h5\"\n",
    "    print(file)\n",
    "\n",
    "    h5_file = h5py.File(PATH + file, \"w\")\n",
    "\n",
    "    # Sherrington-Kirkpatrick model\n",
    "    from tqdm import tqdm\n",
    "    for i in tqdm(range(num_instances)):\n",
    "        J = np.random.normal(0, 1, size=(N, N)) / np.sqrt(N)\n",
    "        J = np.triu(J, k=1)\n",
    "        J = J + J.transpose()\n",
    "\n",
    "        S = np.array([[1., 0., 0.] for _ in range(N - 1)]) # fix final spin (i.e. leave it out)\n",
    "        S = evolve(S, J, β, γ)\n",
    "\n",
    "        h5_file.create_dataset(\"set_\" + str(i + 1) + \"/J\", data=J)\n",
    "        h5_file.create_dataset(\"set_\" + str(i + 1) + \"/S_z\", data=S[:, 2])\n",
    "\n",
    "    h5_file.close()"
   ]
  },
  {
   "cell_type": "markdown",
   "id": "7572b0ab",
   "metadata": {
    "hidden": true
   },
   "source": [
    "### Histogram statistics"
   ]
  },
  {
   "cell_type": "code",
   "execution_count": null,
   "id": "a3708c64",
   "metadata": {
    "hidden": true
   },
   "outputs": [],
   "source": [
    "seed = 137\n",
    "np.random.seed(seed)\n",
    "\n",
    "N = 9\n",
    "num_instances = 10000\n",
    "\n",
    "file = \"SK_model_\" + \"p_\" + str(p) + \"_N_\" + str(N) + \"_num_inst_\" + str(num_instances) + \"_seed_\" + str(seed) + \".h5\"\n",
    "print(file)    \n",
    "data_file = h5py.File(PATH + file, \"r\")\n",
    "\n",
    "E_stars = []\n",
    "for i in range(num_instances):\n",
    "    J = data_file[\"set_\" + str(i + 1) + \"/J\"][:]\n",
    "    S_z = data_file[\"set_\" + str(i + 1) + \"/S_z\"][:]\n",
    "\n",
    "    E_star = expectation(solution(S_z), J)\n",
    "    E_stars.append(E_star)\n",
    "\n",
    "file = \"SK_model_\" + \"p_\" + str(p) + \"_N_\" + str(N) + \"_num_inst_\" + str(num_instances) + \"_seed_\" + str(seed) + \"_hist_stats.h5\"    \n",
    "out_file = h5py.File(PATH_DB + file, \"w\")\n",
    "out_file.create_dataset(\"all_E_stars\", data=E_stars)\n",
    "out_file.close()"
   ]
  },
  {
   "cell_type": "markdown",
   "id": "b055439d",
   "metadata": {
    "hidden": true
   },
   "source": [
    "### Moments"
   ]
  },
  {
   "cell_type": "code",
   "execution_count": null,
   "id": "e5b01e19",
   "metadata": {
    "hidden": true
   },
   "outputs": [],
   "source": [
    "E_0 = -0.763\n",
    "\n",
    "# for num in [10 + k * 5 for k in range(23)]:\n",
    "for num in [150, 180]:\n",
    "    N = num\n",
    "    num_instances = 10000\n",
    "\n",
    "    file = \"SK_model_\" + \"p_\" + str(p) + \"_N_\" + str(N) + \"_num_inst_\" + str(num_instances) + \"_seed_\" + str(seed) + \".h5\"\n",
    "    print(file)    \n",
    "    data_file = h5py.File(PATH + file, \"r\")\n",
    "\n",
    "    E_star = 0\n",
    "    E_star_squared = 0\n",
    "    for i in range(num_instances):\n",
    "        J = data_file[\"set_\" + str(i + 1) + \"/J\"][:]\n",
    "        S_z = data_file[\"set_\" + str(i + 1) + \"/S_z\"][:]\n",
    "\n",
    "        E_star += expectation(solution(S_z), J)\n",
    "        E_star_squared += expectation(solution(S_z), J)**2\n",
    "        \n",
    "    out_file = h5py.File(PATH_DB + file, \"w\")\n",
    "    out_file.create_dataset(\"E_star\", data=[E_star / num_instances])\n",
    "    out_file.create_dataset(\"E_star_squared\", data=[E_star_squared / num_instances])\n",
    "    out_file.close()"
   ]
  },
  {
   "cell_type": "markdown",
   "id": "aace5767",
   "metadata": {
    "heading_collapsed": true
   },
   "source": [
    "## Number Partitioning"
   ]
  },
  {
   "cell_type": "code",
   "execution_count": null,
   "id": "1b7316fc",
   "metadata": {
    "hidden": true
   },
   "outputs": [],
   "source": [
    "# schedule\n",
    "p = 10000\n",
    "τ = 0.25\n",
    "\n",
    "γ = τ * (np.arange(1, p + 1) - 1/2) / p\n",
    "β = τ * (1 - np.arange(1, p + 1) / p)\n",
    "β[p-1] = τ / (4 * p)"
   ]
  },
  {
   "cell_type": "code",
   "execution_count": null,
   "id": "31ca4695",
   "metadata": {
    "hidden": true
   },
   "outputs": [],
   "source": [
    "PATH = \"../data/number-partitioning/\"\n",
    "PATH_DB = \"/home/lappet/Dropbox/MidnightRambler/Mean_Field_AOA/Figures/Data/NP_problem/new/\""
   ]
  },
  {
   "cell_type": "markdown",
   "id": "0375043a",
   "metadata": {
    "heading_collapsed": true,
    "hidden": true
   },
   "source": [
    "### Raw data"
   ]
  },
  {
   "cell_type": "code",
   "execution_count": null,
   "id": "c088b9d9",
   "metadata": {
    "hidden": true
   },
   "outputs": [],
   "source": [
    "# PATH = \"../data/number-partitioning/instances/batch_06/\"\n",
    "\n",
    "# X = np.linspace(4, 20, 9, dtype=int)\n",
    "# ENSEMBLE_SIZE = 100\n",
    "\n",
    "# for n in X:\n",
    "#     for i in range(ENSEMBLE_SIZE):\n",
    "        \n",
    "#         filename = \"number_partitioning_num_{0:02d}\".format(n) + \"_replica_{0:03d}\".format(i + 1)\n",
    "#         print(i, \", \", filename, \"\\n\")\n",
    "        \n",
    "#         a = np.load(PATH + filename + \".npy\")\n",
    "#         J = -2 * np.outer(a.T, a)\n",
    "#         np.fill_diagonal(J, 0.)    \n",
    "        \n",
    "#         # freeze final spin to +1\n",
    "#         h_z = J[-1, :-1]\n",
    "#         J = J[:-1, :-1]\n",
    "#         print(J, \"\\n\")"
   ]
  },
  {
   "cell_type": "code",
   "execution_count": null,
   "id": "2783a306",
   "metadata": {
    "hidden": true
   },
   "outputs": [],
   "source": [
    "X = np.linspace(4, 20, 9, dtype=int)\n",
    "X = np.concatenate((X, np.array([50, 60, 70, 80, 90, 100, 150, 200])))"
   ]
  },
  {
   "cell_type": "code",
   "execution_count": null,
   "id": "73e1c216",
   "metadata": {
    "hidden": true,
    "scrolled": true
   },
   "outputs": [],
   "source": [
    "for N in X:\n",
    "    seed = 137\n",
    "    np.random.seed(seed)\n",
    "    num_instances = 10000\n",
    "\n",
    "    file = \"number-partitioning_\" + \"p_\" + str(p) + \"_N_\" + str(N) + \"_num_inst_\" + str(num_instances) + \"_seed_\" + str(seed) + \".h5\"\n",
    "    print(file)\n",
    "\n",
    "    h5_file = h5py.File(PATH + file, \"w\")\n",
    "\n",
    "    # Number partitioning\n",
    "    from tqdm import tqdm\n",
    "    for i in tqdm(range(num_instances)):\n",
    "        a = np.random.uniform(0, 1, size=N) \n",
    "        a = np.sort(a)\n",
    "        J = -2 * np.outer(a.T, a)\n",
    "        np.fill_diagonal(J, 0.)    \n",
    "        \n",
    "        S = np.array([[1., 0., 0.] for _ in range(N - 1)]) # fix final spin (i.e. leave it out)\n",
    "        S = evolve(S, J, β, γ)\n",
    "\n",
    "        h5_file.create_dataset(\"set_\" + str(i + 1) + \"/a\", data=a)\n",
    "        h5_file.create_dataset(\"set_\" + str(i + 1) + \"/S_z\", data=S[:, 2])\n",
    "\n",
    "    h5_file.close()        "
   ]
  },
  {
   "cell_type": "markdown",
   "id": "70a03a91",
   "metadata": {
    "hidden": true
   },
   "source": [
    "### Histogram statistics"
   ]
  },
  {
   "cell_type": "code",
   "execution_count": null,
   "id": "362c657f",
   "metadata": {
    "hidden": true
   },
   "outputs": [],
   "source": [
    "seed = 137\n",
    "np.random.seed(seed)\n",
    "\n",
    "N = 50\n",
    "num_instances = 10000\n",
    "\n",
    "file = \"number-partitioning_\" + \"p_\" + str(p) + \"_N_\" + str(N) + \"_num_inst_\" + str(num_instances) + \"_seed_\" + str(seed) + \".h5\"\n",
    "print(file)    \n",
    "data_file = h5py.File(PATH + file, \"r\")\n",
    "\n",
    "E_stars = []\n",
    "for i in range(num_instances):\n",
    "    a = data_file[\"set_\" + str(i + 1) + \"/a\"][:]\n",
    "    S_z = data_file[\"set_\" + str(i + 1) + \"/S_z\"][:]\n",
    "    \n",
    "    J = -2 * np.outer(a.T, a)\n",
    "    np.fill_diagonal(J, 0.)   \n",
    "    \n",
    "    E_and_string = (np.sum(a**2) + expectation(solution(S_z), J), S_z)\n",
    "    \n",
    "#     # one spin flip\n",
    "#     for j in range(S_z.shape[0]):\n",
    "#         new_S_z = copy.deepcopy(S_z)\n",
    "#         new_S_z[j] *= -1\n",
    "#         if E_and_string[0] > np.sum(a**2) + expectation(solution(new_S_z), J):\n",
    "#             E_and_string = (np.sum(a**2) + expectation(solution(new_S_z), J), new_S_z)\n",
    "\n",
    "    # two spin flips\n",
    "    for j in range(S_z.shape[0]):\n",
    "        for k in range(j + 1, S_z.shape[0]):\n",
    "            new_S_z = copy.deepcopy(S_z)\n",
    "            new_S_z[j] *= -1\n",
    "            new_S_z[k] *= -1\n",
    "            if E_and_string[0] > np.sum(a**2) + expectation(solution(new_S_z), J):\n",
    "                E_and_string = (np.sum(a**2) + expectation(solution(new_S_z), J), new_S_z)\n",
    "    \n",
    "    E_stars.append(np.sqrt(E_and_string[0]))\n",
    "\n",
    "file = \"number-partitioning_\" + \"p_\" + str(p) + \"_N_\" + str(N) + \"_num_inst_\" + str(num_instances) + \"_seed_\" + str(seed) + \"_hist_stats.h5\"    \n",
    "out_file = h5py.File(PATH + file, \"w\")\n",
    "out_file.create_dataset(\"all_E_stars\", data=E_stars)\n",
    "out_file.close()"
   ]
  },
  {
   "cell_type": "markdown",
   "id": "52faf826",
   "metadata": {
    "hidden": true
   },
   "source": [
    "### Moments"
   ]
  },
  {
   "cell_type": "code",
   "execution_count": null,
   "id": "75e68315",
   "metadata": {
    "hidden": true
   },
   "outputs": [],
   "source": [
    "X = np.arange(10, 22, 2);\n",
    "X = np.concatenate((X, [25 + 5*k for k in range(5)], [50, 60, 70, 80, 90]))\n",
    "X"
   ]
  },
  {
   "cell_type": "code",
   "execution_count": null,
   "id": "6f93f957",
   "metadata": {
    "hidden": true
   },
   "outputs": [],
   "source": [
    "for N in X:\n",
    "# for N in [25, 30, 35, 40, 45]:\n",
    "    seed = 137\n",
    "    num_instances = 10000\n",
    "\n",
    "    file = \"number-partitioning_\" + \"p_\" + str(p) + \"_N_\" + str(N) + \"_num_inst_\" + str(num_instances) + \"_seed_\" + str(seed) + \".h5\"\n",
    "    print(file)    \n",
    "    data_file = h5py.File(PATH + file, \"r\")\n",
    "\n",
    "    E_star_sqrt = 0\n",
    "    for i in range(num_instances):\n",
    "        a = data_file[\"set_\" + str(i + 1) + \"/a\"][:]\n",
    "        S_z = data_file[\"set_\" + str(i + 1) + \"/S_z\"][:]\n",
    "\n",
    "        J = -2 * np.outer(a.T, a)\n",
    "        np.fill_diagonal(J, 0.)\n",
    "\n",
    "        E_star = np.sum(a**2) + expectation(solution(S_z), J)\n",
    "\n",
    "        # two spin flips\n",
    "        for j in range(S_z.shape[0]):\n",
    "            for k in range(j + 1, S_z.shape[0]):\n",
    "                new_S_z = copy.deepcopy(S_z)\n",
    "                new_S_z[j] *= -1\n",
    "                new_S_z[k] *= -1\n",
    "                if E_star > np.sum(a**2) + expectation(solution(new_S_z), J):\n",
    "                    E_star = np.sum(a**2) + expectation(solution(new_S_z), J)\n",
    "\n",
    "        E_star_sqrt += np.sqrt(E_star)\n",
    "        \n",
    "    out_file = h5py.File(PATH + file[:-3] + \"_moments.h5\", \"w\")\n",
    "    out_file.create_dataset(\"E_star_sqrt\", data=[E_star_sqrt / num_instances])\n",
    "    out_file.close()"
   ]
  },
  {
   "cell_type": "code",
   "execution_count": null,
   "id": "d866048f",
   "metadata": {
    "hidden": true
   },
   "outputs": [],
   "source": []
  },
  {
   "cell_type": "markdown",
   "id": "f4b5675c",
   "metadata": {},
   "source": [
    "## Testing"
   ]
  },
  {
   "cell_type": "markdown",
   "id": "991328c2",
   "metadata": {
    "heading_collapsed": true
   },
   "source": [
    "### Explicit time evolution"
   ]
  },
  {
   "cell_type": "code",
   "execution_count": 3,
   "id": "a7ce0a4f",
   "metadata": {
    "hidden": true
   },
   "outputs": [],
   "source": [
    "# schedule\n",
    "T = 10.\n",
    "n = 2**10\n",
    "Δt = T/n\n",
    "times = np.linspace(0, T, n + 1)\n",
    "\n",
    "p = n\n",
    "γ = np.array([Δt for j in range(p)])\n",
    "β = np.array([Δt for j in range(p)])"
   ]
  },
  {
   "cell_type": "code",
   "execution_count": 4,
   "id": "520a7661",
   "metadata": {
    "hidden": true
   },
   "outputs": [],
   "source": [
    "N = 3\n",
    "\n",
    "J = np.triu(np.ones((N, N)), k=1) \n",
    "J += J.transpose()"
   ]
  },
  {
   "cell_type": "code",
   "execution_count": 5,
   "id": "460b1dcc",
   "metadata": {
    "hidden": true
   },
   "outputs": [
    {
     "data": {
      "text/plain": [
       "array([[0., 1.],\n",
       "       [1., 0.]])"
      ]
     },
     "execution_count": 5,
     "metadata": {},
     "output_type": "execute_result"
    }
   ],
   "source": [
    "J[:N-1, :N-1]"
   ]
  },
  {
   "cell_type": "code",
   "execution_count": 6,
   "id": "1c836924",
   "metadata": {
    "hidden": true
   },
   "outputs": [],
   "source": [
    "S = np.array([[1., 0., 0.] for _ in range(N - 1)]) # fix final spin (i.e. leave it out)\n",
    "data = np.array([S for _ in range(p+1)])\n",
    "for k in range(p):\n",
    "    S = evolve(S, J, np.array([Δt]), np.array([Δt]))\n",
    "    data[k + 1] = S"
   ]
  },
  {
   "cell_type": "code",
   "execution_count": 26,
   "id": "d15d7755",
   "metadata": {
    "hidden": true
   },
   "outputs": [],
   "source": [
    "from scipy.integrate import solve_ivp\n",
    "\n",
    "def S(t, y, B, C):\n",
    "    h = J[N-1, :-1]\n",
    "    Δ = np.ones(N - 1)\n",
    "    m_0 = h[0] + J[0, 1] * y[3 + 2]\n",
    "    m_1 = h[1] + J[1, 0] * y[0 + 2]\n",
    "    return [2 * C * m_0  * y[0 + 1], \n",
    "            2 * B * Δ[0] * y[0 + 2] - 2 * C * m_0 * y[0 + 0],\n",
    "           -2 * B * Δ[0] * y[0 + 1],\n",
    "            2 * C * m_1  * y[3 + 1], \n",
    "            2 * B * Δ[1] * y[3 + 2] - 2 * C * m_1 * y[3 + 0],\n",
    "           -2 * B * Δ[1] * y[3 + 1]]\n",
    "\n",
    "init = [1., 0., 0., 1., 0., 0.]\n",
    "test_data = np.array([init for _ in range(n+1)])\n",
    "for i in range(n):\n",
    "    # do a problem step\n",
    "    sol = solve_ivp(S, [0, Δt], init, t_eval=[Δt], args=(0., 1.))\n",
    "    init = sol.y.flatten()\n",
    "    \n",
    "    # then do a driver step\n",
    "    sol = solve_ivp(S, [0, Δt], init, t_eval=[Δt], args=(1., 0.))\n",
    "    init = sol.y.flatten()\n",
    "    \n",
    "    test_data[i+1] = sol.y.flatten()"
   ]
  },
  {
   "cell_type": "code",
   "execution_count": 27,
   "id": "48485839",
   "metadata": {
    "hidden": true
   },
   "outputs": [
    {
     "data": {
      "image/png": "[encoded data removed]",
      "text/plain": [
       "<Figure size 1080x324 with 3 Axes>"
      ]
     },
     "metadata": {
      "needs_background": "light"
     },
     "output_type": "display_data"
    }
   ],
   "source": [
    "import matplotlib.pyplot as plt\n",
    "spin_nr = 0\n",
    "\n",
    "fig, ax = plt.subplots(1, 3, figsize=(15, 4.5))\n",
    "ylabels = [\"$\\\\langle\\hat{\\sigma}_\"+s+\"^{(\"+str(spin_nr)+\")}\\\\rangle$\" for s in [\"x\", \"y\", \"z\"]]\n",
    "for k in range(3):\n",
    "    ax[k].plot(times, data[:, spin_nr, k], \"-\")\n",
    "    ax[k].plot(times, test_data[:, k], \"--C0\", alpha=0.5, lw=4)\n",
    "    ax[k].set_xlim(0, T)\n",
    "    ax[k].set_ylim(-1, 1)\n",
    "    ax[k].set_xlabel(\"$t \\Delta $\")\n",
    "    ax[k].set_ylabel(ylabels[k])\n",
    "plt.tight_layout()"
   ]
  },
  {
   "cell_type": "code",
   "execution_count": 31,
   "id": "f2e1e6b0",
   "metadata": {
    "hidden": true
   },
   "outputs": [],
   "source": [
    "digits = 7\n",
    "assert (np.round(data[:, 0, 0] - test_data.T[0], decimals=digits) == 0.0).all()\n",
    "assert (np.round(data[:, 0, 1] - test_data.T[1], decimals=digits) == 0.0).all()\n",
    "assert (np.round(data[:, 0, 2] - test_data.T[2], decimals=digits) == 0.0).all()"
   ]
  },
  {
   "cell_type": "code",
   "execution_count": null,
   "id": "4e3bf70a",
   "metadata": {
    "hidden": true
   },
   "outputs": [],
   "source": []
  }
 ],
 "metadata": {
  "kernelspec": {
   "display_name": "Python [conda env:root] *",
   "language": "python",
   "name": "conda-root-py"
  },
  "language_info": {
   "codemirror_mode": {
    "name": "ipython",
    "version": 3
   },
   "file_extension": ".py",
   "mimetype": "text/x-python",
   "name": "python",
   "nbconvert_exporter": "python",
   "pygments_lexer": "ipython3",
   "version": "3.8.8"
  }
 },
 "nbformat": 4,
 "nbformat_minor": 5
}
