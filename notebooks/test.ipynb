{
 "cells": [
  {
   "cell_type": "markdown",
   "id": "5e61c835",
   "metadata": {},
   "source": [
    "# Mean-Field AOA"
   ]
  },
  {
   "cell_type": "code",
   "execution_count": 1,
   "id": "0527583b",
   "metadata": {},
   "outputs": [],
   "source": [
    "import numpy as np"
   ]
  },
  {
   "cell_type": "code",
   "execution_count": 2,
   "id": "8aafdc0b",
   "metadata": {},
   "outputs": [],
   "source": [
    "def rotation(alpha: np.ndarray) -> np.ndarray:\n",
    "    \"\"\"Computes an array of rotation matrices parametrized by the vector alpha.\n",
    "\n",
    "    To understand why the returned array is defined with an extra transpose, \n",
    "    consider the corresponding test in ../tests/test_MeanFieldQAOA.py!\n",
    "\n",
    "    Args:\n",
    "        alpha (np.ndarray, float):  vector of rotation angles or a scalar rotation angle\n",
    "\n",
    "    Returns:\n",
    "        np.ndarray: array of rotation matrices corresponding to the input angles\n",
    "    \"\"\"\n",
    "    c, s = np.cos(alpha), np.sin(alpha)\n",
    "    return np.array(((c, -s), (s, c))).T"
   ]
  },
  {
   "cell_type": "code",
   "execution_count": 3,
   "id": "3230a6fa",
   "metadata": {},
   "outputs": [],
   "source": [
    "# schedule\n",
    "p = 10\n",
    "τ = 0.5\n",
    "\n",
    "γ = τ * (np.arange(1, p + 1) - 1/2) / p\n",
    "β = τ * (1 - np.arange(1, p + 1) / p)\n",
    "β[p-1] = τ / (4 * p)"
   ]
  },
  {
   "cell_type": "code",
   "execution_count": 4,
   "id": "576e5b78",
   "metadata": {},
   "outputs": [],
   "source": [
    "# initial spins\n",
    "N = 5\n",
    "S = np.array([[1., 0., 0.] for _ in range(N - 1)]) # fix final spin (i.e. leave it out)"
   ]
  },
  {
   "cell_type": "code",
   "execution_count": 5,
   "id": "1c3534a9",
   "metadata": {},
   "outputs": [],
   "source": [
    "np.random.seed(11)\n",
    "J = np.random.normal(0, 1, size=(N, N)) / np.sqrt(N)\n",
    "J = np.triu(J, k=1)\n",
    "J = J + J.transpose()"
   ]
  },
  {
   "cell_type": "code",
   "execution_count": 6,
   "id": "69e6510e",
   "metadata": {},
   "outputs": [],
   "source": [
    "# magnetization\n",
    "def m(S: np.ndarray, J: np.ndarray) -> np.ndarray:\n",
    "    \"\"\"Computes the vector arising from the product of the interaction matrix J\n",
    "    with the vector formed by all z-components of the spins S.\n",
    "\n",
    "    Args:\n",
    "        S (np.ndarray): matrix holding the x-,y- and z-components of all spins\n",
    "        J (np.ndarray): interaction matrix\n",
    "\n",
    "    Returns:\n",
    "        np.ndarray: vector holding the results\n",
    "    \"\"\"\n",
    "    return J[N-1, :-1] + J[:N-1, :N-1] @ S[:, 2]  # np.triu(J, k=1) @ S[:, 2]\n",
    "\n",
    "# evolution matrices\n",
    "V_D = lambda k: rotation(2 * β[k] * np.ones(N-1))\n",
    "V_P = lambda k, m: rotation(2 * γ[k] * m)"
   ]
  },
  {
   "cell_type": "code",
   "execution_count": 7,
   "id": "204700ff",
   "metadata": {},
   "outputs": [],
   "source": [
    "import time"
   ]
  },
  {
   "cell_type": "code",
   "execution_count": 8,
   "id": "0372153f",
   "metadata": {},
   "outputs": [
    {
     "data": {
      "text/plain": [
       "0.0013113021850585938"
      ]
     },
     "execution_count": 8,
     "metadata": {},
     "output_type": "execute_result"
    }
   ],
   "source": [
    "# evolution\n",
    "t_0 = time.time()\n",
    "for k in range(p):\n",
    "    XY = np.einsum(\"ijk,ik->ij\", V_P(k, m(S, J)), S[:, :2])\n",
    "    S = np.concatenate((XY[:, :1],\n",
    "                        np.einsum(\"ijk,ik->ij\", V_D(k),\n",
    "                                  np.concatenate((XY[:, 1:], S[:, 2:]), axis=1))\n",
    "                       ), axis=1)\n",
    "    \n",
    "t_f = time.time()\n",
    "t_f - t_0"
   ]
  },
  {
   "cell_type": "code",
   "execution_count": 9,
   "id": "d6ca479f",
   "metadata": {},
   "outputs": [],
   "source": [
    "S_test = np.array([[-0.4280189887648497, -0.4161436735954462, -0.3151885316091266, 0.06825210700086091], \n",
    "                   [0.57845514021309, 0.1965348184395327, -0.14809317283731896, -0.5908423629410464], \n",
    "                   [0.6943985858408479, -0.8878054449413042, -0.9374031159010826, -0.8038948638001017]])"
   ]
  },
  {
   "cell_type": "code",
   "execution_count": 10,
   "id": "008f0c87",
   "metadata": {},
   "outputs": [
    {
     "data": {
      "text/plain": [
       "True"
      ]
     },
     "execution_count": 10,
     "metadata": {},
     "output_type": "execute_result"
    }
   ],
   "source": [
    "np.allclose(S, S_test.T)"
   ]
  },
  {
   "cell_type": "code",
   "execution_count": null,
   "id": "16c6f6ba",
   "metadata": {},
   "outputs": [],
   "source": []
  }
 ],
 "metadata": {
  "kernelspec": {
   "display_name": "Python [conda env:root] *",
   "language": "python",
   "name": "conda-root-py"
  },
  "language_info": {
   "codemirror_mode": {
    "name": "ipython",
    "version": 3
   },
   "file_extension": ".py",
   "mimetype": "text/x-python",
   "name": "python",
   "nbconvert_exporter": "python",
   "pygments_lexer": "ipython3",
   "version": "3.8.8"
  }
 },
 "nbformat": 4,
 "nbformat_minor": 5
}
