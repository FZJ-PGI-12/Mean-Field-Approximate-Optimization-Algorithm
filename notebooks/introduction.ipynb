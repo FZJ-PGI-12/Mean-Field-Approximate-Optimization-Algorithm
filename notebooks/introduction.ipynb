{
 "cells": [
  {
   "cell_type": "markdown",
   "id": "5e61c835",
   "metadata": {},
   "source": [
    "# Mean-Field AOA"
   ]
  },
  {
   "cell_type": "markdown",
   "id": "8c8c72a8",
   "metadata": {},
   "source": [
    "This is a short introduction on how to apply mean-Field AOA to the Sherrington-Kirkpatrick model and the partition problem. \n",
    "\n",
    "For more details, consider our paper: https://arxiv.org/abs/2303.00329"
   ]
  },
  {
   "cell_type": "code",
   "execution_count": null,
   "id": "0527583b",
   "metadata": {},
   "outputs": [],
   "source": [
    "import numpy as np\n",
    "import matplotlib.pyplot as plt\n",
    "import networkx as nx"
   ]
  },
  {
   "cell_type": "code",
   "execution_count": null,
   "id": "fd4e9f6a",
   "metadata": {},
   "outputs": [],
   "source": [
    "import sys\n",
    "sys.path.append('../src')\n",
    "from meanfieldaoa import *"
   ]
  },
  {
   "cell_type": "code",
   "execution_count": null,
   "id": "3230a6fa",
   "metadata": {},
   "outputs": [],
   "source": [
    "# schedule\n",
    "p = 1000\n",
    "τ = 0.5\n",
    "\n",
    "# for this schedule, see Appendix A of https://arxiv.org/pdf/1907.02359.pdf\n",
    "γ = τ * (np.arange(1, p + 1) - 1/2) / p\n",
    "β = τ * (1 - np.arange(1, p + 1) / p)\n",
    "β[p-1] = τ / (4 * p)"
   ]
  },
  {
   "cell_type": "code",
   "execution_count": null,
   "id": "7e5a2245",
   "metadata": {},
   "outputs": [],
   "source": [
    "times = np.linspace(0, 1, p+1)"
   ]
  },
  {
   "cell_type": "markdown",
   "id": "cb18a78c",
   "metadata": {},
   "source": [
    "## Sherrington-Kirkpatrick"
   ]
  },
  {
   "cell_type": "code",
   "execution_count": null,
   "id": "ffb68c9f",
   "metadata": {},
   "outputs": [],
   "source": [
    "# number of spins\n",
    "N = 5"
   ]
  },
  {
   "cell_type": "code",
   "execution_count": null,
   "id": "07a008d6",
   "metadata": {},
   "outputs": [],
   "source": [
    "# create random instance\n",
    "np.random.seed(111)\n",
    "J = np.random.normal(0, 1, size=(N, N)) / np.sqrt(N)\n",
    "J = np.triu(J, k=1)\n",
    "J = J + J.transpose()"
   ]
  },
  {
   "cell_type": "code",
   "execution_count": null,
   "id": "3a383129",
   "metadata": {},
   "outputs": [],
   "source": [
    "np.around(J, decimals=2)"
   ]
  },
  {
   "cell_type": "code",
   "execution_count": null,
   "id": "d866048f",
   "metadata": {},
   "outputs": [],
   "source": [
    "# fix final spin (i.e. leave it out)\n",
    "S = np.array([[1., 0., 0.] for _ in range(N - 1)])\n",
    "data = np.array([S for _ in range(p+1)])\n",
    "\n",
    "# run one step at a time\n",
    "for k in range(p):\n",
    "    S = evolve(S, J, np.array([β[k]]), np.array([γ[k]]))\n",
    "    data[k + 1] = S"
   ]
  },
  {
   "cell_type": "code",
   "execution_count": null,
   "id": "0d077e79",
   "metadata": {
    "scrolled": true
   },
   "outputs": [],
   "source": [
    "# plot x, y, and z of all spins \n",
    "plt.figure(figsize=((N - 1) * 2.2, 2))\n",
    "\n",
    "for n in range(N - 1):\n",
    "    plt.subplot(1, N - 1, n+1)\n",
    "    plt.plot(times, data.T[0][n])\n",
    "    plt.plot(times, data.T[1][n])\n",
    "    plt.plot(times, data.T[2][n])\n",
    "    plt.xlim(0, 1)\n",
    "    plt.ylim(-1, 1)\n",
    "    plt.xlabel(\"t/T\")\n",
    "    plt.ylabel(\"n_\" + str(n))\n",
    "\n",
    "plt.tight_layout()"
   ]
  },
  {
   "cell_type": "code",
   "execution_count": null,
   "id": "2fe6624d",
   "metadata": {},
   "outputs": [],
   "source": [
    "# restart and do full evolution\n",
    "S = np.array([[1., 0., 0.] for _ in range(N - 1)])\n",
    "S = evolve(S, J, β, γ)\n",
    "\n",
    "# get solution from z components\n",
    "solution(S[:, 2])"
   ]
  },
  {
   "cell_type": "code",
   "execution_count": null,
   "id": "27bfdbd4",
   "metadata": {},
   "outputs": [],
   "source": [
    "expectation(S[:, 2], J)"
   ]
  },
  {
   "cell_type": "markdown",
   "id": "f4b5675c",
   "metadata": {},
   "source": [
    "## Partition Problem"
   ]
  },
  {
   "cell_type": "code",
   "execution_count": null,
   "id": "2fdd0ebb",
   "metadata": {},
   "outputs": [],
   "source": [
    "# number of spins\n",
    "N = 5"
   ]
  },
  {
   "cell_type": "code",
   "execution_count": null,
   "id": "6cd4a4e7",
   "metadata": {},
   "outputs": [],
   "source": [
    "# create random instance\n",
    "np.random.seed(3)\n",
    "a = np.random.uniform(0, 1, size=N) \n",
    "a = np.sort(a)\n",
    "J = -2 * np.outer(a.T, a)\n",
    "np.fill_diagonal(J, 0.)"
   ]
  },
  {
   "cell_type": "code",
   "execution_count": null,
   "id": "4e3bf70a",
   "metadata": {},
   "outputs": [],
   "source": [
    "np.around(J, decimals=2)"
   ]
  },
  {
   "cell_type": "code",
   "execution_count": null,
   "id": "096150c1",
   "metadata": {},
   "outputs": [],
   "source": [
    "# fix final spin (i.e. leave it out)\n",
    "S = np.array([[1., 0., 0.] for _ in range(N - 1)])\n",
    "data = np.array([S for _ in range(p+1)])\n",
    "\n",
    "# run one step at a time\n",
    "for k in range(p):\n",
    "    S = evolve(S, J, np.array([β[k]]), np.array([γ[k]]))\n",
    "    data[k + 1] = S"
   ]
  },
  {
   "cell_type": "code",
   "execution_count": null,
   "id": "0e32f2d2",
   "metadata": {},
   "outputs": [],
   "source": [
    "# plot x, y, and z of all spins \n",
    "plt.figure(figsize=((N - 1) * 2.2, 2))\n",
    "\n",
    "for n in range(N - 1):\n",
    "    plt.subplot(1, N - 1, n+1)\n",
    "    plt.plot(times, data.T[0][n])\n",
    "    plt.plot(times, data.T[1][n])\n",
    "    plt.plot(times, data.T[2][n])\n",
    "    plt.xlim(0, 1)\n",
    "    plt.xlabel(\"t/T\")\n",
    "    plt.ylabel(\"n_\" + str(n))\n",
    "\n",
    "plt.tight_layout()"
   ]
  },
  {
   "cell_type": "code",
   "execution_count": null,
   "id": "7d4861a2",
   "metadata": {},
   "outputs": [],
   "source": [
    "# restart and do full evolution\n",
    "S = np.array([[1., 0., 0.] for _ in range(N - 1)])\n",
    "S = evolve(S, J, β, γ)\n",
    "\n",
    "# get solution from z components\n",
    "solution(S[:, 2])"
   ]
  },
  {
   "cell_type": "markdown",
   "id": "4c482d58",
   "metadata": {},
   "source": [
    "## MaxCut"
   ]
  },
  {
   "cell_type": "code",
   "execution_count": null,
   "id": "65dd415f",
   "metadata": {},
   "outputs": [],
   "source": [
    "N = 4\n",
    "graph = nx.cycle_graph(N) \n",
    "\n",
    "plt.figure(figsize=(3, 2))\n",
    "nx.draw(graph, with_labels=True)"
   ]
  },
  {
   "cell_type": "code",
   "execution_count": null,
   "id": "ed3d6c09",
   "metadata": {},
   "outputs": [],
   "source": [
    "J = np.zeros((N, N))\n",
    "for edge in graph.edges:\n",
    "    J[edge[0], edge[1]] = -1/2.\n",
    "J = J + J.T\n",
    "J"
   ]
  },
  {
   "cell_type": "code",
   "execution_count": null,
   "id": "28cd2b17",
   "metadata": {},
   "outputs": [],
   "source": [
    "# fix final spin (i.e. leave it out)\n",
    "S = np.array([[1., 0., 0.] for _ in range(N - 1)])\n",
    "data = np.array([S for _ in range(p+1)])\n",
    "\n",
    "# run one step at a time\n",
    "for k in range(p):\n",
    "    S = evolve(S, J, np.array([β[k]]), np.array([γ[k]]))\n",
    "    data[k + 1] = S"
   ]
  },
  {
   "cell_type": "code",
   "execution_count": null,
   "id": "a9964572",
   "metadata": {},
   "outputs": [],
   "source": [
    "# plot x, y, and z of all spins \n",
    "plt.figure(figsize=((N - 1) * 2.2, 2))\n",
    "\n",
    "for n in range(N - 1):\n",
    "    plt.subplot(1, N - 1, n+1)\n",
    "    plt.plot(times, data.T[0][n])\n",
    "    plt.plot(times, data.T[1][n])\n",
    "    plt.plot(times, data.T[2][n])\n",
    "    plt.xlim(0, 1)\n",
    "    plt.ylim(-1, 1)\n",
    "    plt.xlabel(\"t/T\")\n",
    "    plt.ylabel(\"n_\" + str(n))\n",
    "\n",
    "plt.tight_layout()"
   ]
  },
  {
   "cell_type": "code",
   "execution_count": null,
   "id": "99b0d4d3",
   "metadata": {},
   "outputs": [],
   "source": []
  }
 ],
 "metadata": {
  "kernelspec": {
   "display_name": "Python 3 (ipykernel)",
   "language": "python",
   "name": "python3"
  },
  "language_info": {
   "codemirror_mode": {
    "name": "ipython",
    "version": 3
   },
   "file_extension": ".py",
   "mimetype": "text/x-python",
   "name": "python",
   "nbconvert_exporter": "python",
   "pygments_lexer": "ipython3",
   "version": "3.10.6"
  }
 },
 "nbformat": 4,
 "nbformat_minor": 5
}
