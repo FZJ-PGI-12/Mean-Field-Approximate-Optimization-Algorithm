{
 "cells": [
  {
   "cell_type": "markdown",
   "id": "c70ecb0b",
   "metadata": {},
   "source": [
    "# Publication Plots for the Sherrington-Kirkpatrick Model"
   ]
  },
  {
   "cell_type": "code",
   "execution_count": null,
   "id": "33fa2208",
   "metadata": {},
   "outputs": [],
   "source": [
    "using HDF5, Printf\n",
    "using LsqFit, Measurements\n",
    "using Statistics, Distributions\n",
    "\n",
    "using PyCall, PyPlot\n",
    "np = pyimport(\"numpy\")\n",
    "h5py = pyimport(\"h5py\")\n",
    "PyPlot.plt.style.use(\"paper.mplstyle\")"
   ]
  },
  {
   "cell_type": "code",
   "execution_count": null,
   "id": "2eb6f6c1",
   "metadata": {},
   "outputs": [],
   "source": [
    "# path to folder with the h5 files\n",
    "PATH = \"../data/SK_model/\""
   ]
  },
  {
   "cell_type": "markdown",
   "id": "63ce31e8",
   "metadata": {},
   "source": [
    "## Plots"
   ]
  },
  {
   "cell_type": "markdown",
   "id": "a012ba63",
   "metadata": {},
   "source": [
    "### Average Energy"
   ]
  },
  {
   "cell_type": "code",
   "execution_count": null,
   "id": "46dacb40",
   "metadata": {
    "scrolled": true
   },
   "outputs": [],
   "source": [
    "E_0 = -0.763\n",
    "p = 1000\n",
    "num_instances = 10000\n",
    "seed = 137\n",
    "\n",
    "E_star_data = []\n",
    "E_star_std_data = []\n",
    "# for num in vcat([10 + k * 5 for k in 0:22], [200])\n",
    "for num in vcat([10 + k * 10 for k in 0:11], [150, 180, 200])\n",
    "    N = num\n",
    "    new_file = \"SK_model_\" * \"p_\" * string(p) * \"_N_\" * string(N) * \"_num_inst_\" * string(num_instances) * \"_seed_\" * string(seed) * \"_moments.h5\"\n",
    "    data_file = h5open(PATH * new_file, \"r\")\n",
    "    println(new_file)\n",
    "    E_star = read(data_file, \"E_star\")[1]\n",
    "    E_star_squared = read(data_file, \"E_star_squared\")[1]\n",
    "    push!(E_star_data, E_star / N - E_0)\n",
    "    push!(E_star_std_data, sqrt.(E_star_squared - E_star^2) / N)\n",
    "end"
   ]
  },
  {
   "cell_type": "code",
   "execution_count": null,
   "id": "89218f24",
   "metadata": {},
   "outputs": [],
   "source": [
    "# N = vcat([10 + k * 5 for k in 0:22], [200])\n",
    "N = vcat([10 + k * 10 for k in 0:11], [150, 180, 200]);"
   ]
  },
  {
   "cell_type": "code",
   "execution_count": null,
   "id": "cf2ba07c",
   "metadata": {},
   "outputs": [],
   "source": [
    "m(x, p) = p[1] .+ p[2] .* x\n",
    "p0 = [0., -0.5];"
   ]
  },
  {
   "cell_type": "code",
   "execution_count": null,
   "id": "ce1d39d3",
   "metadata": {},
   "outputs": [],
   "source": [
    "fit_E = curve_fit(m, log.(N), log.(E_star_data), p0)    \n",
    "println(fit_E.resid .|> abs |> sum)    \n",
    "println(fit_E.param)"
   ]
  },
  {
   "cell_type": "code",
   "execution_count": null,
   "id": "d0b9350e",
   "metadata": {},
   "outputs": [],
   "source": [
    "fit_σ = curve_fit(m, log.(N), log.((E_star_std_data)), p0)    \n",
    "println(fit_σ.resid .|> abs |> sum)    \n",
    "println(fit_σ.param)"
   ]
  },
  {
   "cell_type": "code",
   "execution_count": null,
   "id": "b4047c19",
   "metadata": {
    "scrolled": false
   },
   "outputs": [],
   "source": [
    "fig = figure(figsize=(4.2, 3))\n",
    "ax = subplot(211)\n",
    "axhline(0.053, c=\"k\", ls=\"--\")\n",
    "ax.loglog(N, E_star_data, \"o\")\n",
    "ax.loglog(N, map(x -> m(x, [fit_E.param[1], fit_E.param[2]]), log.(N)) .|> exp, \"-C0\", label=\"\\$N^{-\\\\omega}\\$\")\n",
    "ax.loglog([], [], lw=0, label=@sprintf(\"\\$ \\\\omega = %.2f \\$\", fit_E.param[2] |> abs))\n",
    "ax.set_ylabel(\"\\$\\\\langle E_*\\\\rangle / N - \\\\varepsilon_P\\$\")\n",
    "ax.set_xticklabels([])\n",
    "ax.set_xlim(10, 200)\n",
    "ax.set_ylim(0.01, 0.5)\n",
    "ax.legend(ncol=2, columnspacing=0.1)\n",
    "\n",
    "ax = subplot(212)\n",
    "ax.loglog(N, E_star_std_data, \"o\")\n",
    "ax.loglog(N, map(x -> m(x, [fit_σ.param[1], fit_σ.param[2]]), log.(N)) .|> exp, \"-C0\", label=\"\\$N^{-\\\\omega_s}\\$\")\n",
    "ax.loglog([], [], lw=0, label=@sprintf(\"\\$ \\\\omega_s = %.2f \\$\", fit_σ.param[2] |> abs))\n",
    "ax.set_ylim(0.01, 0.5)\n",
    "ax.set_xlim(10, 200)\n",
    "ax.set_xlabel(\"\\$N\\$\")\n",
    "ax.set_ylabel(\"\\$ s / N\\$\")\n",
    "ax.legend(ncol=2, columnspacing=0.1)\n",
    "\n",
    "tight_layout(pad=0.15, w_pad=0.0, h_pad=0.0)\n",
    "# savefig(\"../plots/\" * \"Fig1.pdf\", dpi=300)"
   ]
  },
  {
   "cell_type": "markdown",
   "id": "20e542f5",
   "metadata": {},
   "source": [
    "### Histograms"
   ]
  },
  {
   "cell_type": "code",
   "execution_count": null,
   "id": "f009b51a",
   "metadata": {},
   "outputs": [],
   "source": [
    "N = 20;"
   ]
  },
  {
   "cell_type": "markdown",
   "id": "c05b9c7b",
   "metadata": {},
   "source": [
    "#### Mean-field statistics"
   ]
  },
  {
   "cell_type": "code",
   "execution_count": null,
   "id": "cd1bb358",
   "metadata": {},
   "outputs": [],
   "source": [
    "new_file = \"SK_model_\" * \"p_\" * string(p) * \"_N_\" * string(N) * \"_num_inst_\" * string(num_instances) * \"_seed_\" * string(seed) * \"_hist_stats.h5\"\n",
    "data_file = h5open(PATH * new_file, \"r\")\n",
    "all_E_stars = read(data_file, \"all_E_stars\")\n",
    "counts, bins = np.histogram((all_E_stars .- mean(all_E_stars)) ./ sqrt(var(all_E_stars)), bins=20)"
   ]
  },
  {
   "cell_type": "markdown",
   "id": "a89bcb96",
   "metadata": {},
   "source": [
    "#### Exact data"
   ]
  },
  {
   "cell_type": "code",
   "execution_count": null,
   "id": "7ff0c9d3",
   "metadata": {},
   "outputs": [],
   "source": [
    "new_file = \"SK_model\" * \"_N_\" * string(N) * \"_num_inst_\" * string(num_instances) * \"_seed_\" * string(seed) * \"_exact.h5\"\n",
    "data_file = h5open(PATH * new_file, \"r\")\n",
    "all_E_0s = []\n",
    "for i in 1:num_instances\n",
    "    E_0 = read(data_file, \"set_\" * string(i) * \"/E_0\")\n",
    "    push!(all_E_0s, E_0)\n",
    "end\n",
    "\n",
    "counts_0, bins_0 = np.histogram((all_E_0s .- mean(all_E_0s)) ./ sqrt(var(all_E_0s)), bins=20)"
   ]
  },
  {
   "cell_type": "markdown",
   "id": "9d74f55d",
   "metadata": {},
   "source": [
    "#### Plots"
   ]
  },
  {
   "cell_type": "code",
   "execution_count": null,
   "id": "e1094829",
   "metadata": {},
   "outputs": [],
   "source": [
    "g_m(x, m, u, v, w) = w .* exp.(m .* (x .- u) ./ v - m .* exp.((x .- u) ./ v))"
   ]
  },
  {
   "cell_type": "code",
   "execution_count": null,
   "id": "388a5f06",
   "metadata": {
    "scrolled": false
   },
   "outputs": [],
   "source": [
    "X = np.linspace(-6, 5, 101)\n",
    "\n",
    "fig = figure(figsize=(4.2, 3))\n",
    "ax = subplot(111)\n",
    "plot(X, map(x -> g_m(x, 6, 0.2, 2.35, 7e5), X), label=\"Gumbel\", \"--C3\", lw=1.5)\n",
    "hist(bins[1:end-1], bins, weights=(counts), alpha=1.0, lw=1.5, color=\"k\", label=\"mean-field\", histtype=\"step\")\n",
    "hist(bins_0[1:end-1], bins_0, weights=(counts_0), alpha=0.75, label=\"exact\", color=\"grey\")#, histtype=\"step\")#, hatch=\"x\", edgecolor=\"w\")\n",
    "legend(loc=\"upper left\", ncol=1)\n",
    "ax.set_yscale(\"log\")\n",
    "ax.set_xlim(-6, 4)\n",
    "ax.set_ylim(1e0, 1e4)\n",
    "ax.set_xticks([-6 + 2k for k in 0:5])\n",
    "ax.set_xlabel(\"\\$\\\\left(E - \\\\langle E \\\\rangle\\\\right) / s\\$\")\n",
    "ax.set_ylabel(\"\\$ P(E)\\$\")\n",
    "tight_layout(pad=0.15, w_pad=0.0, h_pad=0.0)\n",
    "# savefig(\"../plots/\" * \"Fig2.pdf\", dpi=300)"
   ]
  },
  {
   "cell_type": "markdown",
   "id": "fd4d2536",
   "metadata": {},
   "source": [
    "#### Tails"
   ]
  },
  {
   "cell_type": "code",
   "execution_count": null,
   "id": "a9b3b867",
   "metadata": {
    "scrolled": true
   },
   "outputs": [],
   "source": [
    "tail_counts, tail_bins = np.histogram((all_E_stars .- all_E_0s) ./ abs(mean(all_E_0s)), bins=100);"
   ]
  },
  {
   "cell_type": "code",
   "execution_count": null,
   "id": "b81aa470",
   "metadata": {
    "scrolled": true
   },
   "outputs": [],
   "source": [
    "fig = figure(figsize=(4.2, 2.5))\n",
    "ax = subplot(111)\n",
    "hist(tail_bins[1:end-1], tail_bins, weights=tail_counts, alpha=0.75, lw=1.5, color=\"grey\")\n",
    "ax.set_xlabel(\"\\$\\\\varepsilon_* = \\\\left(E_* - E_0\\\\right) / |\\\\langle E_0 \\\\rangle| \\$\")\n",
    "ax.set_ylabel(\"\\$ P(\\\\varepsilon_*)\\$\")\n",
    "ax.set_yscale(\"log\")\n",
    "# axvline(cutoff, c=\"C3\", label=\"cutoff\")\n",
    "# legend(loc=\"upper right\", ncol=2)\n",
    "ax.set_xlim(0, 0.2)\n",
    "ax.set_ylim(0., 1e4)\n",
    "ax.set_yticks([1e1, 1e2, 1e3, 1e4])\n",
    "tight_layout(pad=0.15, w_pad=0.0, h_pad=0.0)\n",
    "# savefig(\"../plots/\" * \"Fig3.pdf\", dpi=300)"
   ]
  },
  {
   "cell_type": "code",
   "execution_count": null,
   "id": "f679862b",
   "metadata": {},
   "outputs": [],
   "source": [
    "tails = []\n",
    "for i in 1:size(tail_bins)[1]\n",
    "    push!(tails, sum(tail_counts[i:end]) ./ num_instances)\n",
    "end"
   ]
  },
  {
   "cell_type": "code",
   "execution_count": null,
   "id": "de04d559",
   "metadata": {},
   "outputs": [],
   "source": [
    "N_range = 5:20;"
   ]
  },
  {
   "cell_type": "code",
   "execution_count": null,
   "id": "50aa27d0",
   "metadata": {},
   "outputs": [],
   "source": [
    "all_tail_counts = Dict()\n",
    "all_tail_bins = Dict()\n",
    "for N in N_range\n",
    "    new_file = \"SK_model_\" * \"p_\" * string(p) * \"_N_\" * string(N) * \"_num_inst_\" * string(num_instances) * \"_seed_\" * string(seed) * \"_hist_stats.h5\"\n",
    "    data_file = h5open(PATH * new_file, \"r\")\n",
    "    all_E_stars = read(data_file, \"all_E_stars\")\n",
    "\n",
    "    new_file = \"SK_model\" * \"_N_\" * string(N) * \"_num_inst_\" * string(num_instances) * \"_seed_\" * string(seed) * \"_exact.h5\"\n",
    "    data_file = h5open(PATH * new_file, \"r\")\n",
    "    all_E_0s = []\n",
    "    for i in 1:num_instances\n",
    "        E_0 = read(data_file, \"set_\" * string(i) * \"/E_0\")\n",
    "        push!(all_E_0s, E_0)\n",
    "    end\n",
    "\n",
    "    tail_counts, tail_bins = np.histogram((all_E_stars .- all_E_0s) ./ abs(mean(all_E_0s)), bins=100)\n",
    "    tail_bins[1] = 1e-10\n",
    "    all_tail_counts[N] = tail_counts\n",
    "    all_tail_bins[N] = tail_bins\n",
    "end"
   ]
  },
  {
   "cell_type": "code",
   "execution_count": null,
   "id": "f6445f6d",
   "metadata": {},
   "outputs": [],
   "source": [
    "cutoff = 0.1;"
   ]
  },
  {
   "cell_type": "code",
   "execution_count": null,
   "id": "5b1cb904",
   "metadata": {},
   "outputs": [],
   "source": [
    "all_tails = Dict()\n",
    "all_tail_fits = Dict()\n",
    "all_tail_ycuts = Dict()\n",
    "for N in N_range\n",
    "    tails = []\n",
    "    for i in 1:size(all_tail_bins[N])[1]\n",
    "        push!(tails, sum(all_tail_counts[N][i:end]) ./ num_instances)\n",
    "    end\n",
    "    all_tails[N] = tails .+ 1e-15\n",
    "    cutoff_idx = findfirst(y -> y == argmin(x -> abs.(x .- cutoff), all_tail_bins[N]), all_tail_bins[N])\n",
    "    tail_fit = curve_fit(m, all_tail_bins[N][2:end-cutoff_idx], log.(all_tails[N][2:end-cutoff_idx]), [1., -10])\n",
    "    all_tail_ycuts[N] = tail_fit.param[1] \n",
    "    all_tail_fits[N] = tail_fit.param[2]  \n",
    "end"
   ]
  },
  {
   "cell_type": "code",
   "execution_count": null,
   "id": "65ca75d4",
   "metadata": {},
   "outputs": [],
   "source": [
    "fig = figure(figsize=(4.5, 3))\n",
    "\n",
    "styles = [\"^\", \"o\", \"s\", \"v\"]\n",
    "colors = [\"#000C8F\", \"grey\", \"#0A92C4\"]\n",
    "ax = subplot(111)\n",
    "for (k, N) in enumerate([10, 15, 20])\n",
    "    cutoff_idx = findfirst(y -> y == argmin(x -> abs.(x .- cutoff), all_tail_bins[N]), all_tail_bins[N])\n",
    "    \n",
    "    if k == 1\n",
    "        ax.semilogy(sqrt(N) .* all_tail_bins[N][2:cutoff_idx], map(x -> exp(-2pi*x + 2pi * sqrt(N) * all_tail_bins[N][2] + log(all_tails[N][2])), sqrt(N) .* all_tail_bins[N][2:cutoff_idx]), \n",
    "            label=\"\\$\\\\mathrm{e}^{-2\\\\pi\\\\sqrt{N}\\\\varepsilon}\\$\", \"-k\")\n",
    "    else\n",
    "        ax.semilogy(sqrt(N) .* all_tail_bins[N][2:cutoff_idx], map(x -> exp(-2pi*x + 2pi * sqrt(N) * all_tail_bins[N][2] + log(all_tails[N][2])), sqrt(N) .* all_tail_bins[N][2:cutoff_idx]), \n",
    "            \"-k\")\n",
    "    end     \n",
    "    \n",
    "    ax.semilogy(sqrt(N) .* all_tail_bins[N][1:cutoff_idx], all_tails[N][1:cutoff_idx] , styles[k], c=colors[k], label=@sprintf(\"\\$N=%2d\\$\", N), ms=5)\n",
    "   \n",
    "end\n",
    "ax.set_xlim(0, 0.4)\n",
    "ax.set_ylim(1e-2, 3e-1)\n",
    "ax.set_xlabel(\"\\$  \\\\sqrt{N}\\\\varepsilon \\$\")\n",
    "ax.set_ylabel(\"\\$ P_f(\\\\varepsilon_* > \\\\varepsilon) \\$\")\n",
    "legend(loc=\"lower left\", ncol=1, handlelength=1.0)\n",
    "\n",
    "tight_layout(pad=0.4)\n",
    "# savefig(\"../plots/\" * \"Fig4.pdf\", dpi=300)"
   ]
  },
  {
   "cell_type": "markdown",
   "id": "ccec2566",
   "metadata": {},
   "source": [
    "### Fluctuations"
   ]
  },
  {
   "cell_type": "markdown",
   "id": "17e05d18",
   "metadata": {},
   "source": [
    "#### Easy instance"
   ]
  },
  {
   "cell_type": "code",
   "execution_count": null,
   "id": "1998a12e",
   "metadata": {},
   "outputs": [],
   "source": [
    "PATH_DB = PATH * \"Easy_Instance_N11/\"\n",
    "FILE = \"Easy_instance_SK_model_seed_61_N_11_tau_05_p_1000.h5\"\n",
    "filename = PATH_DB * FILE\n",
    "h5file = h5open(filename, \"r\")\n",
    "E_0 = read(h5file, \"E0\")\n",
    "J = read(h5file, \"J_ij\")\n",
    "exact_levels = read(h5file, \"Levels\")\n",
    "mf_level = read(h5file, \"MF_Energy-E0\")\n",
    "lyapunov = read(h5file, \"Lyapunov_Exp\");\n",
    "# omega = read(h5file, \"omega_n\");"
   ]
  },
  {
   "cell_type": "code",
   "execution_count": null,
   "id": "23fb0e6b",
   "metadata": {},
   "outputs": [],
   "source": [
    "times = np.linspace(0, 1, size(E_0)[1]);\n",
    "times_medium = np.linspace(0, 1, size(lyapunov)[1]);"
   ]
  },
  {
   "cell_type": "markdown",
   "id": "43f8d602",
   "metadata": {},
   "source": [
    "#### Hard instance"
   ]
  },
  {
   "cell_type": "code",
   "execution_count": null,
   "id": "8d0b957d",
   "metadata": {},
   "outputs": [],
   "source": [
    "PATH_DB = PATH * \"Hard_Instance_N11/\"\n",
    "FILE = \"Hard_instance_SK_model_seed_2041_N_11_tau_05_p_5000.h5\"\n",
    "filename = PATH_DB * FILE\n",
    "h5file = h5open(filename, \"r\")\n",
    "E_0 = read(h5file, \"E0\")\n",
    "J = read(h5file, \"J_ij\")\n",
    "exact_levels_hard = read(h5file, \"Levels\")\n",
    "mf_level_hard = read(h5file, \"MF_Energy-E0\")\n",
    "lyapunov_hard = read(h5file, \"Lyapunov_Exp\")\n",
    "omega_hard = read(h5file, \"omega_n\");"
   ]
  },
  {
   "cell_type": "code",
   "execution_count": null,
   "id": "990c49ab",
   "metadata": {},
   "outputs": [],
   "source": [
    "times_long = np.linspace(0, 1, size(lyapunov_hard)[1]);"
   ]
  },
  {
   "cell_type": "markdown",
   "id": "c270220a",
   "metadata": {},
   "source": [
    "#### Combined Plot"
   ]
  },
  {
   "cell_type": "code",
   "execution_count": null,
   "id": "804342be",
   "metadata": {},
   "outputs": [],
   "source": [
    "fig = figure(figsize=(4.5,  3.6))\n",
    "ax = subplot(221)\n",
    "for k in 1:20\n",
    "    if k == 1\n",
    "        ax.plot(times, exact_levels[:, k], \"-C0\", label=\"Exact\", lw=0.75)\n",
    "    else\n",
    "        ax.plot(times, exact_levels[:, k], \"-C0\", lw=0.75)\n",
    "    end\n",
    "end\n",
    "\n",
    "ax.plot(times, mf_level, \"--C1\", lw=2, label=\"Mean-field\")\n",
    "ax.set_ylabel(\"\\$ E - E_0 \\$\")\n",
    "ax.set_xticklabels([])\n",
    "ax.set_xlim(0, 1)\n",
    "ax.set_ylim(0, 4)\n",
    "\n",
    "ax = subplot(223)\n",
    "ax.plot(times_medium, lyapunov[:, 1], \"-C3\")\n",
    "ax.plot(times_medium, lyapunov[:, 2], \"-C7\")\n",
    "ax.plot(times_medium, lyapunov[:, 3], \"-C7\")\n",
    "ax.set_xlim(0, 1)\n",
    "ax.set_ylim(0, 1)\n",
    "ax.set_yticks([0, 0.5, 1])\n",
    "ax.set_xlabel(\"\\$s\\$\")\n",
    "ax.set_ylabel(\"\\$ \\\\lambda_i \\$\")\n",
    "\n",
    "# =================================================\n",
    "\n",
    "ax = subplot(222)\n",
    "for k in 1:20\n",
    "    if k == 1\n",
    "        ax.plot(times, exact_levels_hard[:, k], \"-C0\", label=\"Exact\", lw=0.75)\n",
    "    else\n",
    "        ax.plot(times, exact_levels_hard[:, k], \"-C0\", lw=0.75)\n",
    "    end\n",
    "end\n",
    "\n",
    "ax.plot(times, mf_level_hard, \"--C1\", lw=2, label=\"Mean-field\")\n",
    "\n",
    "ax.set_xticklabels([])\n",
    "ax.set_yticklabels([])\n",
    "ax.set_xlim(0, 1)\n",
    "ax.set_ylim(0, 4)\n",
    "ax.legend(loc=\"upper right\", handlelength=1.3, markerfirst=false)\n",
    "\n",
    "ax = subplot(224)\n",
    "ax.plot(times_long, lyapunov_hard[:, 1], \"-C3\")\n",
    "ax.plot(times_long, lyapunov_hard[:, 2], \"-C7\")\n",
    "ax.plot(times_long, lyapunov_hard[:, 3], \"-C7\")\n",
    "ax.set_xlim(0, 1)\n",
    "ax.set_ylim(0, 1)\n",
    "ax.set_yticks([0, 0.5, 1])\n",
    "ax.set_yticklabels([])\n",
    "ax.set_xlabel(\"\\$s\\$\")\n",
    "\n",
    "tight_layout(pad=0.15, w_pad=0.5, h_pad=0.0)\n",
    "# savefig(\"../plots/\" * \"Fig7.pdf\", dpi=300)"
   ]
  },
  {
   "cell_type": "markdown",
   "id": "605ffdcc",
   "metadata": {},
   "source": [
    "#### Hard instance (large)"
   ]
  },
  {
   "cell_type": "code",
   "execution_count": null,
   "id": "904b9d8c",
   "metadata": {},
   "outputs": [],
   "source": [
    "PATH_DB = PATH * \"Hard_Instance_N18/\"\n",
    "FILE = \"Hard_instance_SK_model_N_18_tau_05_p_5000.h5\"\n",
    "filename = PATH_DB * FILE\n",
    "h5file = h5open(filename, \"r\")\n",
    "lyapunov_hard_18_5000 = read(h5file, \"Lyapunov_Exp\")\n",
    "omega_hard_18 = read(h5file, \"omega_n\");"
   ]
  },
  {
   "cell_type": "code",
   "execution_count": null,
   "id": "69e6d2f7",
   "metadata": {},
   "outputs": [],
   "source": [
    "PATH_DB = PATH * \"Hard_Instance_N18/\"\n",
    "FILE = \"Hard_instance_SK_model_N_18_tau_05_p_20000.h5\"\n",
    "filename = PATH_DB * FILE\n",
    "h5file = h5open(filename, \"r\")\n",
    "exact_levels_hard_18 = read(h5file, \"Levels\")\n",
    "mf_level_hard_18 = read(h5file, \"MF_Energy-E0\")\n",
    "lyapunov_hard_18 = read(h5file, \"Lyapunov_Exp\")\n",
    "omega_hard_18 = read(h5file, \"omega_n\");"
   ]
  },
  {
   "cell_type": "code",
   "execution_count": null,
   "id": "39e91586",
   "metadata": {},
   "outputs": [],
   "source": [
    "PATH_DB = PATH * \"Hard_Instance_N33/\"\n",
    "FILE = \"Hard_instance_SK_model_N_33_tau_04_p_20000.h5\"\n",
    "filename = PATH_DB * FILE\n",
    "h5file = h5open(filename, \"r\")\n",
    "lyapunov_hard_33 = read(h5file, \"Lyapunov_Exp\")\n",
    "omega_hard_33 = read(h5file, \"omega_n\");"
   ]
  },
  {
   "cell_type": "code",
   "execution_count": null,
   "id": "728ee469",
   "metadata": {},
   "outputs": [],
   "source": [
    "fig = figure(figsize=(4.5,  3.6))\n",
    "grid = PyPlot.plt.GridSpec(2, 2)\n",
    "\n",
    "ax = subplot(get(grid, (0, 0)))\n",
    "times = np.linspace(0, 1, size(mf_level_hard_18)[1]);\n",
    "times_long = np.linspace(0, 1, size(lyapunov_hard_18)[1]);\n",
    "\n",
    "for k in 1:30\n",
    "    if k == 1\n",
    "        ax.plot(times, exact_levels_hard_18[:, k], \"-C0\", label=\"Exact\", lw=0.75)\n",
    "    else\n",
    "        ax.plot(times, exact_levels_hard_18[:, k], \"-C0\", lw=0.75)\n",
    "    end\n",
    "end\n",
    "\n",
    "ax.plot(times, mf_level_hard_18, \"--C1\", lw=2, label=\"Mean-field\")\n",
    "ax.set_ylabel(\"\\$ E - E_0 \\$\")\n",
    "ax.set_xticklabels([])\n",
    "ax.set_xlim(0, 1)\n",
    "ax.set_ylim(0, 4)\n",
    "ax.legend(loc=\"upper center\", handlelength=1.25, markerfirst=false)\n",
    "\n",
    "\n",
    "ax = subplot(get(grid, (1, 0)))\n",
    "\n",
    "ax.plot(np.linspace(0, 1, size(lyapunov_hard_18_5000)[1]), lyapunov_hard_18_5000[:, 1], \"-k\")\n",
    "ax.plot(times_long, lyapunov_hard_18[:, 1], \"-C3\")\n",
    "ax.plot(times_long, lyapunov_hard_18[:, 2], \"-C7\")\n",
    "ax.plot(times_long, lyapunov_hard_18[:, 3], \"-C7\")\n",
    "ax.plot([], [], label=\"\\$N = 18\\$\", lw=0)\n",
    "ax.set_xlim(0, 1)\n",
    "ax.set_ylim(0, 1)\n",
    "ax.set_yticks([0, 0.5, 1])\n",
    "ax.set_xlabel(\"\\$s\\$\")\n",
    "ax.set_ylabel(\"\\$ \\\\lambda_i \\$\")\n",
    "ax.legend(loc=\"upper left\", handlelength=0)\n",
    "\n",
    "\n",
    "ax = subplot(get(grid, (pycall(pybuiltin(\"slice\"), PyObject, 0, 2), 1)))\n",
    "ax.plot(times_long, lyapunov_hard_33[:, 1], \"-C3\")\n",
    "ax.plot(times_long, lyapunov_hard_33[:, 2], \"-C7\")\n",
    "ax.plot(times_long, lyapunov_hard_33[:, 3], \"-C7\")\n",
    "ax.plot([], [], label=\"\\$N = 33\\$\", lw=0)\n",
    "ax.set_xlim(0, 1)\n",
    "ax.set_ylim(0, 1.5)\n",
    "ax.set_yticks([k * 0.5 for k in 0:3])\n",
    "ax.set_xlabel(\"\\$s\\$\")\n",
    "ax.set_ylabel(\"\\$ \\\\lambda_i \\$\", labelpad=25)\n",
    "ax.yaxis.set_label_position(\"right\")\n",
    "ax.yaxis.tick_right()\n",
    "ax2 = ax.twinx()\n",
    "ax2.set_ylim(0, 1.5)\n",
    "ax2.set_yticks([k * 0.5 for k in 0:3])\n",
    "ax.set_yticklabels([])\n",
    "ax.legend(loc=\"upper left\", handlelength=0)\n",
    "\n",
    "tight_layout(pad=0.15, w_pad=0.5, h_pad=0.0)\n",
    "# savefig(\"../plots/\" * \"Fig8.pdf\", dpi=300)"
   ]
  }
 ],
 "metadata": {
  "kernelspec": {
   "display_name": "Julia 1.7.2",
   "language": "julia",
   "name": "julia-1.7"
  },
  "language_info": {
   "file_extension": ".jl",
   "mimetype": "application/julia",
   "name": "julia",
   "version": "1.7.2"
  }
 },
 "nbformat": 4,
 "nbformat_minor": 5
}
