{
 "cells": [
  {
   "cell_type": "markdown",
   "id": "ca42eadc",
   "metadata": {},
   "source": [
    "# Sherrington-Kirkpatrick Model: Exact Solution"
   ]
  },
  {
   "cell_type": "code",
   "execution_count": null,
   "id": "26271403",
   "metadata": {},
   "outputs": [],
   "source": [
    "import numpy as np\n",
    "from itertools import permutations, combinations_with_replacement\n",
    "import h5py"
   ]
  },
  {
   "cell_type": "code",
   "execution_count": null,
   "id": "66c918ed",
   "metadata": {},
   "outputs": [],
   "source": [
    "import sys\n",
    "sys.path.append('../src')\n",
    "from mf_AOA import *"
   ]
  },
  {
   "cell_type": "code",
   "execution_count": null,
   "id": "1b52295f",
   "metadata": {},
   "outputs": [],
   "source": [
    "seed = 137\n",
    "np.random.seed(seed)"
   ]
  },
  {
   "cell_type": "code",
   "execution_count": null,
   "id": "1cfb0413",
   "metadata": {},
   "outputs": [],
   "source": [
    "N = 12\n",
    "J = np.random.normal(0, 1, size=(N, N)) / np.sqrt(N)\n",
    "J = np.triu(J, k=1)\n",
    "J = J + J.transpose()"
   ]
  },
  {
   "cell_type": "code",
   "execution_count": null,
   "id": "f3f2b27c",
   "metadata": {},
   "outputs": [],
   "source": [
    "E_0 = 0.\n",
    "for comb in combinations_with_replacement([1, -1], N - 1):\n",
    "    for S_z in set(permutations(comb, N - 1)):\n",
    "        E_0 = min(E_0, expectation(solution(S_z), J))\n",
    "        \n",
    "E_0"
   ]
  },
  {
   "cell_type": "code",
   "execution_count": null,
   "id": "8f7a2c20",
   "metadata": {},
   "outputs": [],
   "source": []
  }
 ],
 "metadata": {
  "kernelspec": {
   "display_name": "Python [conda env:root] *",
   "language": "python",
   "name": "conda-root-py"
  },
  "language_info": {
   "codemirror_mode": {
    "name": "ipython",
    "version": 3
   },
   "file_extension": ".py",
   "mimetype": "text/x-python",
   "name": "python",
   "nbconvert_exporter": "python",
   "pygments_lexer": "ipython3",
   "version": "3.8.8"
  }
 },
 "nbformat": 4,
 "nbformat_minor": 5
}
