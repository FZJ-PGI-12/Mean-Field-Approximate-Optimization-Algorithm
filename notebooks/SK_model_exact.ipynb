{
 "cells": [
  {
   "cell_type": "markdown",
   "id": "ca42eadc",
   "metadata": {},
   "source": [
    "# Sherrington-Kirkpatrick Model: Exact Solution"
   ]
  },
  {
   "cell_type": "code",
   "execution_count": null,
   "id": "26271403",
   "metadata": {
    "scrolled": true
   },
   "outputs": [],
   "source": [
    "import numpy as np\n",
    "from itertools import permutations, combinations_with_replacement, product\n",
    "import h5py"
   ]
  },
  {
   "cell_type": "code",
   "execution_count": null,
   "id": "66c918ed",
   "metadata": {},
   "outputs": [],
   "source": [
    "import sys\n",
    "sys.path.append('../src')\n",
    "from mf_AOA import *"
   ]
  },
  {
   "cell_type": "code",
   "execution_count": null,
   "id": "98efba8b",
   "metadata": {},
   "outputs": [],
   "source": [
    "# path to folder with the h5 files\n",
    "PATH = \"../data/SK_model/\""
   ]
  },
  {
   "cell_type": "code",
   "execution_count": null,
   "id": "f3f2b27c",
   "metadata": {},
   "outputs": [],
   "source": [
    "seed = 137\n",
    "np.random.seed(seed)\n",
    "\n",
    "N = 18\n",
    "num_instances = 10000\n",
    "\n",
    "file = \"SK_model_\" + \"_N_\" + str(N) + \"_num_inst_\" + str(num_instances) + \"_seed_\" + str(seed) + \"_exact.h5\"\n",
    "print(file)\n",
    "\n",
    "h5_file = h5py.File(PATH + file, \"w\")\n",
    "\n",
    "# Sherrington-Kirkpatrick model\n",
    "from tqdm import tqdm\n",
    "for i in tqdm(range(num_instances)):\n",
    "    J = np.random.normal(0, 1, size=(N, N)) / np.sqrt(N)\n",
    "    J = np.triu(J, k=1)\n",
    "    J = J + J.transpose()\n",
    "\n",
    "    E_0 = 1e5\n",
    "    for S_z in product([1, -1], repeat=N - 1):\n",
    "        E_0 = min(E_0, expectation(solution(S_z), J))\n",
    "        \n",
    "    h5_file.create_dataset(\"set_\" + str(i + 1) + \"/E_0\", data=E_0)\n",
    "\n",
    "h5_file.close()"
   ]
  },
  {
   "cell_type": "code",
   "execution_count": null,
   "id": "03487e7f",
   "metadata": {},
   "outputs": [],
   "source": []
  }
 ],
 "metadata": {
  "kernelspec": {
   "display_name": "Python 3",
   "language": "python",
   "name": "python3"
  },
  "language_info": {
   "codemirror_mode": {
    "name": "ipython",
    "version": 3
   },
   "file_extension": ".py",
   "mimetype": "text/x-python",
   "name": "python",
   "nbconvert_exporter": "python",
   "pygments_lexer": "ipython3",
   "version": "3.8.8"
  }
 },
 "nbformat": 4,
 "nbformat_minor": 5
}
