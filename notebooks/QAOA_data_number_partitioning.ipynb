{
 "cells": [
  {
   "cell_type": "markdown",
   "id": "c70ecb0b",
   "metadata": {},
   "source": [
    "# Number Partitioning with `Yao.jl`"
   ]
  },
  {
   "cell_type": "code",
   "execution_count": null,
   "id": "2eb6f6c1",
   "metadata": {},
   "outputs": [],
   "source": [
    "using Yao\n",
    "import YaoPlots\n",
    "using PyCall, PyPlot\n",
    "np = pyimport(\"numpy\");\n",
    "PyPlot.plt.style.use(\"../paper.mplstyle\")\n",
    "\n",
    "using LinearAlgebra, StatsBase, Distributions\n",
    "using LsqFit, Measurements\n",
    "using Parameters, Printf, HDF5, JLD"
   ]
  },
  {
   "cell_type": "code",
   "execution_count": null,
   "id": "fd405c59",
   "metadata": {
    "scrolled": true
   },
   "outputs": [],
   "source": [
    "Base.:+(s1::String, s2::String) = s1 * s2\n",
    "PATH = \"../data/number-partitioning/\"\n",
    "BATCH = \"/batch_06/\"\n",
    "\n",
    "INPUT_FOLDER = PATH + \"instances\" + BATCH\n",
    "OUTPUT_FOLDER = PATH + \"results\" + BATCH"
   ]
  },
  {
   "cell_type": "code",
   "execution_count": null,
   "id": "db4cd2df",
   "metadata": {},
   "outputs": [],
   "source": [
    "p_range = [1, 3, 5, 7]\n",
    "X = 4:2:20\n",
    "\n",
    "ENSEMBLE_SIZE = 100;"
   ]
  },
  {
   "cell_type": "code",
   "execution_count": null,
   "id": "73e03e31",
   "metadata": {
    "scrolled": true
   },
   "outputs": [],
   "source": [
    "all_costs = Dict()\n",
    "\n",
    "for n in X\n",
    "    num_qubits = n-1\n",
    "    all_costs[n] = []\n",
    "    \n",
    "    for i in 0:ENSEMBLE_SIZE-1\n",
    "        \n",
    "        filename = (@sprintf \"number_partitioning_num_%.02d_replica_%.03d\" n i+1)\n",
    "        if  !(isfile(OUTPUT_FOLDER + \"yao/yao_\" + filename + \".h5\"))\n",
    "            continue\n",
    "        end\n",
    "        printstyled(\"loading \" + filename + \"\\n\", color=:magenta)\n",
    "        \n",
    "        a = np.load(INPUT_FOLDER + filename + \".npy\")\n",
    "        \n",
    "        J = -2 * np.outer(a |> transpose, a)\n",
    "        np.fill_diagonal(J, 0.)    \n",
    "        \n",
    "        # freeze final spin to +1\n",
    "        h_z = J[end, 1:end-1]\n",
    "        J = J[1:end-1, 1:end-1]\n",
    "        \n",
    "        all_costs_tmp = []\n",
    "        c = h5open(OUTPUT_FOLDER + \"yao/yao_\" + filename + \".h5\", \"r\") do file\n",
    "            for p in p_range\n",
    "                try\n",
    "                    cost = read(file, \"p = \" + string(p) + \"/\" + \"cost\")\n",
    "                    push!(all_costs_tmp, cost - sum(a.^2))\n",
    "                catch err\n",
    "                    println(typeof(err), \", p = \", string(p), \" not yet done!\")\n",
    "                end\n",
    "            end # end p-loop\n",
    "        end # end do file\n",
    "        if size(all_costs_tmp)[1] < 3\n",
    "            continue\n",
    "        end\n",
    "        push!(all_costs[n], all_costs_tmp)\n",
    "        flush(stdout)\n",
    "    end\n",
    "end"
   ]
  },
  {
   "cell_type": "code",
   "execution_count": null,
   "id": "426d0854",
   "metadata": {},
   "outputs": [],
   "source": [
    "cost_for_all_p = [([-all_costs[n][i] .|> sqrt for i in 1:length(all_costs[n])] |> sum) / length(all_costs[n]) for n in X];\n",
    "cost_for_all_p_square  = [([-all_costs[n][i] for i in 1:length(all_costs[n])] |> sum) / length(all_costs[n]) for n in X];\n",
    "var_for_all_p  = cost_for_all_p_square .- map(x -> x.^2, cost_for_all_p);"
   ]
  },
  {
   "cell_type": "code",
   "execution_count": null,
   "id": "db83e158",
   "metadata": {},
   "outputs": [],
   "source": [
    "cost_for_all_p = [cost_for_all_p[n][p] for n in 1:length(X), p in 1:length(p_range)];\n",
    "std_for_all_p = [var_for_all_p[n][p] .|> sqrt for n in 1:length(X), p in 1:length(p_range)];"
   ]
  },
  {
   "cell_type": "markdown",
   "id": "63ce31e8",
   "metadata": {},
   "source": [
    "## Plots"
   ]
  },
  {
   "cell_type": "code",
   "execution_count": null,
   "id": "afb665b2",
   "metadata": {},
   "outputs": [],
   "source": [
    "labels = [\"\\$p=\"+string(p_val)+\"\\$\" for p_val in p_range]\n",
    "# styles = [\"p-C0\", \"s-C1\", \"o-C2\", \"x-C3\"];\n",
    "# colors = [\"C3\", \"C0\", \"C1\", \"C2\", ];"
   ]
  },
  {
   "cell_type": "code",
   "execution_count": null,
   "id": "45d9147d",
   "metadata": {},
   "outputs": [],
   "source": [
    "fit_params = []\n",
    "m(x, p) = p[1] .+ p[2] .* x\n",
    "p0 = [0., 1.]\n",
    "start = 1\n",
    "final = 9\n",
    "for l in 1:length(p_range)\n",
    "    data_points = cost_for_all_p[start:final, l] \n",
    "    fit = curve_fit(m, log.(X[start:final]), log.(data_points), p0)    \n",
    "    push!(fit_params, fit.param)\n",
    "    println(fit.resid .|> abs |> sum)    \n",
    "    data_points = measurement.(cost_for_all_p[start:final, l], std_for_all_p[start:final, l])\n",
    "    M = hcat(ones(length(X[start:final])), log.(X[start:final]))\n",
    "    println(M \\ log.(data_points))\n",
    "end"
   ]
  },
  {
   "cell_type": "code",
   "execution_count": null,
   "id": "514f4b16",
   "metadata": {},
   "outputs": [],
   "source": [
    "fit_params"
   ]
  },
  {
   "cell_type": "code",
   "execution_count": null,
   "id": "89c93cfc",
   "metadata": {
    "scrolled": true
   },
   "outputs": [],
   "source": [
    "@pyimport matplotlib.ticker as ticker\n",
    "\n",
    "styles = [\"v\", \"^\", \"s\", \"o\"];\n",
    "colors = [\"C3\", \"#000C8F\", \"grey\", \"#0A92C4\"];\n",
    "fig = figure(figsize=(4.2, 2.2))\n",
    "\n",
    "ax = subplot(111)\n",
    "for l in 2:length(p_range)\n",
    "    ax.plot(X[start:final], cost_for_all_p[start:final, l], styles[l], c=colors[l], label=labels[l])\n",
    "    ax.plot(X[start:final], m(X[start:final] .|> log, fit_params[l]) .|> exp, c=colors[l])#, label=@sprintf(\"\\$N^{%0.2f}\\$\", round(fit_params[l][2], digits=2)))\n",
    "end\n",
    "ax.legend(loc=\"lower right\", ncol=3, columnspacing=1, labelspacing=0)\n",
    "ax.set_xscale(\"log\")\n",
    "ax.set_yscale(\"log\")\n",
    "ax.set_xlim(4, 20)\n",
    "ax.set_ylim(1e-1, 1e0)\n",
    "ax.set_xticks([k for k in 4:2:20])\n",
    "ax.set_yticks([1e-1, 1e0])\n",
    "ax.set_xlabel(\"\\$N\\$\")\n",
    "ax.set_ylabel(\"\\$\\\\langle \\\\sqrt{E} \\\\rangle\\$\", labelpad=-10)\n",
    "\n",
    "ax.xaxis.set_major_locator(ticker.FixedLocator([k for k in 4:2:20]))\n",
    "ax.xaxis.set_major_formatter(ticker.ScalarFormatter())\n",
    "ax.xaxis.set_minor_locator(ticker.NullLocator())\n",
    "# ax.yaxis.set_minor_locator(ticker.NullLocator())\n",
    "ax.set_yticklabels([], minor=true)\n",
    "\n",
    "tight_layout(pad=0.15, w_pad=0.0, h_pad=0.0)\n",
    "savefig(\"../plots/\" * \"Fig6.pdf\", dpi=300)"
   ]
  },
  {
   "cell_type": "markdown",
   "id": "302c276d",
   "metadata": {},
   "source": [
    "## Testing"
   ]
  },
  {
   "cell_type": "code",
   "execution_count": null,
   "id": "f0615321",
   "metadata": {},
   "outputs": [],
   "source": []
  }
 ],
 "metadata": {
  "kernelspec": {
   "display_name": "Julia 1.6.0",
   "language": "julia",
   "name": "julia-1.6"
  },
  "language_info": {
   "file_extension": ".jl",
   "mimetype": "application/julia",
   "name": "julia",
   "version": "1.6.0"
  }
 },
 "nbformat": 4,
 "nbformat_minor": 5
}
